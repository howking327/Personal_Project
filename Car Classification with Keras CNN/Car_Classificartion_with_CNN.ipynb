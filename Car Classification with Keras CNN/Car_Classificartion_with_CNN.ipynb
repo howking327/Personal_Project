{
 "cells": [
  {
   "cell_type": "markdown",
   "metadata": {},
   "source": [
    "# 자동차 차종 분류 딥러닝 모델"
   ]
  },
  {
   "cell_type": "code",
   "execution_count": 1,
   "metadata": {},
   "outputs": [],
   "source": [
    "from PIL import Image\n",
    "import os, glob, numpy as np\n",
    "from sklearn.model_selection import train_test_split\n",
    "from sklearn.preprocessing import LabelEncoder\n",
    "from sklearn.preprocessing import OneHotEncoder"
   ]
  },
  {
   "cell_type": "markdown",
   "metadata": {},
   "source": [
    "### 이미지 경로 불러오기 ( 제조사 기준)"
   ]
  },
  {
   "cell_type": "code",
   "execution_count": 2,
   "metadata": {},
   "outputs": [
    {
     "name": "stdout",
     "output_type": "stream",
     "text": [
      "Brand_list: ['GM대우', '기아', '르노삼성', '쌍용', '제네시스', '현대']\n"
     ]
    }
   ],
   "source": [
    "Image_path = \"D:/DeepLearning/kcar_data/\"\n",
    "Brand_list = os.listdir(Image_path)\n",
    "\n",
    "print (\"Brand_list: {}\".format(Brand_list))"
   ]
  },
  {
   "cell_type": "code",
   "execution_count": 3,
   "metadata": {},
   "outputs": [
    {
     "name": "stdout",
     "output_type": "stream",
     "text": [
      "GM대우\n",
      "기아\n",
      "르노삼성\n",
      "쌍용\n",
      "제네시스\n",
      "현대\n"
     ]
    }
   ],
   "source": [
    "Brand_path =[]\n",
    "for i in Brand_list:\n",
    "    Brand_path.append(Image_path+str(i))\n",
    "    print(i)"
   ]
  },
  {
   "cell_type": "code",
   "execution_count": 4,
   "metadata": {},
   "outputs": [
    {
     "data": {
      "text/plain": [
       "['D:/DeepLearning/kcar_data/GM대우',\n",
       " 'D:/DeepLearning/kcar_data/기아',\n",
       " 'D:/DeepLearning/kcar_data/르노삼성',\n",
       " 'D:/DeepLearning/kcar_data/쌍용',\n",
       " 'D:/DeepLearning/kcar_data/제네시스',\n",
       " 'D:/DeepLearning/kcar_data/현대']"
      ]
     },
     "execution_count": 4,
     "metadata": {},
     "output_type": "execute_result"
    }
   ],
   "source": [
    "Brand_path"
   ]
  },
  {
   "cell_type": "markdown",
   "metadata": {},
   "source": [
    "### 모델 별 이미지 경로 담기"
   ]
  },
  {
   "cell_type": "code",
   "execution_count": 5,
   "metadata": {},
   "outputs": [],
   "source": [
    "Car_path = []\n",
    "for i in Brand_path:\n",
    "    #print(os.listdir(i))\n",
    "    Car_list = os.listdir(i)\n",
    "    for j in Car_list:\n",
    "        Car_path.append(i + \"/\" + j)"
   ]
  },
  {
   "cell_type": "code",
   "execution_count": 6,
   "metadata": {
    "scrolled": true
   },
   "outputs": [
    {
     "data": {
      "text/plain": [
       "['D:/DeepLearning/kcar_data/GM대우/알페온',\n",
       " 'D:/DeepLearning/kcar_data/기아/K3',\n",
       " 'D:/DeepLearning/kcar_data/기아/K5',\n",
       " 'D:/DeepLearning/kcar_data/기아/K7',\n",
       " 'D:/DeepLearning/kcar_data/기아/K9',\n",
       " 'D:/DeepLearning/kcar_data/기아/니로',\n",
       " 'D:/DeepLearning/kcar_data/기아/레이',\n",
       " 'D:/DeepLearning/kcar_data/기아/모닝',\n",
       " 'D:/DeepLearning/kcar_data/기아/모하비',\n",
       " 'D:/DeepLearning/kcar_data/기아/스토닉',\n",
       " 'D:/DeepLearning/kcar_data/기아/스팅어',\n",
       " 'D:/DeepLearning/kcar_data/기아/스포티지',\n",
       " 'D:/DeepLearning/kcar_data/기아/쏘렌토',\n",
       " 'D:/DeepLearning/kcar_data/기아/쏘울',\n",
       " 'D:/DeepLearning/kcar_data/기아/카니발',\n",
       " 'D:/DeepLearning/kcar_data/기아/카렌스',\n",
       " 'D:/DeepLearning/kcar_data/기아/포르테',\n",
       " 'D:/DeepLearning/kcar_data/기아/프라이드',\n",
       " 'D:/DeepLearning/kcar_data/르노삼성/QM3',\n",
       " 'D:/DeepLearning/kcar_data/르노삼성/QM6',\n",
       " 'D:/DeepLearning/kcar_data/르노삼성/SM3',\n",
       " 'D:/DeepLearning/kcar_data/르노삼성/SM5',\n",
       " 'D:/DeepLearning/kcar_data/르노삼성/SM6',\n",
       " 'D:/DeepLearning/kcar_data/르노삼성/SM7',\n",
       " 'D:/DeepLearning/kcar_data/르노삼성/클리오',\n",
       " 'D:/DeepLearning/kcar_data/쌍용/렉스턴',\n",
       " 'D:/DeepLearning/kcar_data/쌍용/코란도',\n",
       " 'D:/DeepLearning/kcar_data/쌍용/티볼리',\n",
       " 'D:/DeepLearning/kcar_data/제네시스/G70',\n",
       " 'D:/DeepLearning/kcar_data/제네시스/G80',\n",
       " 'D:/DeepLearning/kcar_data/제네시스/G90',\n",
       " 'D:/DeepLearning/kcar_data/현대/i30',\n",
       " 'D:/DeepLearning/kcar_data/현대/그랜저',\n",
       " 'D:/DeepLearning/kcar_data/현대/맥스크루즈',\n",
       " 'D:/DeepLearning/kcar_data/현대/벨로스터',\n",
       " 'D:/DeepLearning/kcar_data/현대/소나타',\n",
       " 'D:/DeepLearning/kcar_data/현대/스타렉스',\n",
       " 'D:/DeepLearning/kcar_data/현대/싼타페',\n",
       " 'D:/DeepLearning/kcar_data/현대/아반떼',\n",
       " 'D:/DeepLearning/kcar_data/현대/아이오닉',\n",
       " 'D:/DeepLearning/kcar_data/현대/에쿠스',\n",
       " 'D:/DeepLearning/kcar_data/현대/엑센트',\n",
       " 'D:/DeepLearning/kcar_data/현대/코나',\n",
       " 'D:/DeepLearning/kcar_data/현대/투싼',\n",
       " 'D:/DeepLearning/kcar_data/현대/팰리세이드']"
      ]
     },
     "execution_count": 6,
     "metadata": {},
     "output_type": "execute_result"
    }
   ],
   "source": [
    "Car_path"
   ]
  },
  {
   "cell_type": "markdown",
   "metadata": {},
   "source": [
    "### 세부 차급별 이미지 경로 담기"
   ]
  },
  {
   "cell_type": "code",
   "execution_count": 7,
   "metadata": {},
   "outputs": [],
   "source": [
    "Model_path = []\n",
    "for i in Car_path:\n",
    "    Model_list = os.listdir(i)\n",
    "    for j in Model_list:\n",
    "        Model_path.append(i + \"/\" + j)"
   ]
  },
  {
   "cell_type": "code",
   "execution_count": 8,
   "metadata": {
    "scrolled": true
   },
   "outputs": [
    {
     "data": {
      "text/plain": [
       "['D:/DeepLearning/kcar_data/GM대우/알페온/알페온',\n",
       " 'D:/DeepLearning/kcar_data/기아/K3/desktop.ini',\n",
       " 'D:/DeepLearning/kcar_data/기아/K3/더뉴K3',\n",
       " 'D:/DeepLearning/kcar_data/기아/K3/올뉴K3',\n",
       " 'D:/DeepLearning/kcar_data/기아/K5/K5 2세대',\n",
       " 'D:/DeepLearning/kcar_data/기아/K5/K5(JF)',\n",
       " 'D:/DeepLearning/kcar_data/기아/K5/더뉴K5',\n",
       " 'D:/DeepLearning/kcar_data/기아/K7/올 뉴 K7',\n",
       " 'D:/DeepLearning/kcar_data/기아/K9/K9',\n",
       " 'D:/DeepLearning/kcar_data/기아/니로/니로',\n",
       " 'D:/DeepLearning/kcar_data/기아/레이/더 뉴 레이',\n",
       " 'D:/DeepLearning/kcar_data/기아/레이/레이',\n",
       " 'D:/DeepLearning/kcar_data/기아/모닝/더 뉴 모닝',\n",
       " 'D:/DeepLearning/kcar_data/기아/모닝/올 뉴 모닝(JA)',\n",
       " 'D:/DeepLearning/kcar_data/기아/모하비/더 뉴 모하비',\n",
       " 'D:/DeepLearning/kcar_data/기아/스토닉/스토닉',\n",
       " 'D:/DeepLearning/kcar_data/기아/스팅어/스팅어',\n",
       " 'D:/DeepLearning/kcar_data/기아/스포티지/The SUV 스포티지',\n",
       " 'D:/DeepLearning/kcar_data/기아/스포티지/스포티지',\n",
       " 'D:/DeepLearning/kcar_data/기아/스포티지/스포티지 R',\n",
       " 'D:/DeepLearning/kcar_data/기아/스포티지/스포티지 더볼드',\n",
       " 'D:/DeepLearning/kcar_data/기아/쏘렌토/더 뉴 쏘렌토',\n",
       " 'D:/DeepLearning/kcar_data/기아/쏘울/쏘울',\n",
       " 'D:/DeepLearning/kcar_data/기아/카니발/올 뉴 카니발',\n",
       " 'D:/DeepLearning/kcar_data/기아/카니발/카니발R',\n",
       " 'D:/DeepLearning/kcar_data/기아/카렌스/뉴카렌스',\n",
       " 'D:/DeepLearning/kcar_data/기아/포르테/포르테',\n",
       " 'D:/DeepLearning/kcar_data/기아/프라이드/더뉴프라이드',\n",
       " 'D:/DeepLearning/kcar_data/르노삼성/QM3/QM3',\n",
       " 'D:/DeepLearning/kcar_data/르노삼성/QM6/QM6',\n",
       " 'D:/DeepLearning/kcar_data/르노삼성/SM3/SM3 네오',\n",
       " 'D:/DeepLearning/kcar_data/르노삼성/SM3/뉴SM3',\n",
       " 'D:/DeepLearning/kcar_data/르노삼성/SM3/뉴SM3(신형)',\n",
       " 'D:/DeepLearning/kcar_data/르노삼성/SM5/SM5 노바',\n",
       " 'D:/DeepLearning/kcar_data/르노삼성/SM6/SM6',\n",
       " 'D:/DeepLearning/kcar_data/르노삼성/SM7/SM7 노바',\n",
       " 'D:/DeepLearning/kcar_data/르노삼성/클리오/클리오',\n",
       " 'D:/DeepLearning/kcar_data/쌍용/렉스턴/G4 렉스턴',\n",
       " 'D:/DeepLearning/kcar_data/쌍용/코란도/코란도 C',\n",
       " 'D:/DeepLearning/kcar_data/쌍용/코란도/코란도스포츠',\n",
       " 'D:/DeepLearning/kcar_data/쌍용/코란도/코란도투리스모',\n",
       " 'D:/DeepLearning/kcar_data/쌍용/티볼리/티볼리',\n",
       " 'D:/DeepLearning/kcar_data/쌍용/티볼리/티볼리에어',\n",
       " 'D:/DeepLearning/kcar_data/제네시스/G70/G70',\n",
       " 'D:/DeepLearning/kcar_data/제네시스/G80/G80',\n",
       " 'D:/DeepLearning/kcar_data/제네시스/G80/G80 스포츠',\n",
       " 'D:/DeepLearning/kcar_data/제네시스/G90/G90',\n",
       " 'D:/DeepLearning/kcar_data/현대/i30/i30',\n",
       " 'D:/DeepLearning/kcar_data/현대/i30/i30(PD)',\n",
       " 'D:/DeepLearning/kcar_data/현대/그랜저/그랜저 HG',\n",
       " 'D:/DeepLearning/kcar_data/현대/그랜저/그랜저 IG',\n",
       " 'D:/DeepLearning/kcar_data/현대/맥스크루즈/더 뉴 맥스크루즈',\n",
       " 'D:/DeepLearning/kcar_data/현대/벨로스터/벨로스터(JS)',\n",
       " 'D:/DeepLearning/kcar_data/현대/소나타/LF 소나타',\n",
       " 'D:/DeepLearning/kcar_data/현대/소나타/LF 소나타 하이브리드',\n",
       " 'D:/DeepLearning/kcar_data/현대/소나타/NF 소나타',\n",
       " 'D:/DeepLearning/kcar_data/현대/소나타/YF 소나타',\n",
       " 'D:/DeepLearning/kcar_data/현대/소나타/소나타 뉴 라이즈',\n",
       " 'D:/DeepLearning/kcar_data/현대/스타렉스/그랜드 스타렉스',\n",
       " 'D:/DeepLearning/kcar_data/현대/스타렉스/더뉴그랜드스타렉스',\n",
       " 'D:/DeepLearning/kcar_data/현대/싼타페/싼타페 DM',\n",
       " 'D:/DeepLearning/kcar_data/현대/싼타페/싼타페 TM',\n",
       " 'D:/DeepLearning/kcar_data/현대/아반떼/더뉴아반떼AD',\n",
       " 'D:/DeepLearning/kcar_data/현대/아반떼/아반떼AD',\n",
       " 'D:/DeepLearning/kcar_data/현대/아반떼/아반떼MD',\n",
       " 'D:/DeepLearning/kcar_data/현대/아반떼/아반떼XD',\n",
       " 'D:/DeepLearning/kcar_data/현대/아이오닉/아이오닉 electric',\n",
       " 'D:/DeepLearning/kcar_data/현대/아이오닉/아이오닉 hybrid',\n",
       " 'D:/DeepLearning/kcar_data/현대/에쿠스/에쿠스(신형)',\n",
       " 'D:/DeepLearning/kcar_data/현대/엑센트/엑센트 (신형)',\n",
       " 'D:/DeepLearning/kcar_data/현대/코나/코나',\n",
       " 'D:/DeepLearning/kcar_data/현대/투싼/올 뉴 투싼',\n",
       " 'D:/DeepLearning/kcar_data/현대/투싼/투싼',\n",
       " 'D:/DeepLearning/kcar_data/현대/투싼/투싼 ix',\n",
       " 'D:/DeepLearning/kcar_data/현대/팰리세이드/팰리세이드']"
      ]
     },
     "execution_count": 8,
     "metadata": {},
     "output_type": "execute_result"
    }
   ],
   "source": [
    "Model_path"
   ]
  },
  {
   "cell_type": "markdown",
   "metadata": {},
   "source": [
    "#### 불필요한 desktop.ini 경로 제거"
   ]
  },
  {
   "cell_type": "code",
   "execution_count": 9,
   "metadata": {},
   "outputs": [],
   "source": [
    "Model_path.remove(Model_path[1])"
   ]
  },
  {
   "cell_type": "code",
   "execution_count": 10,
   "metadata": {
    "scrolled": true
   },
   "outputs": [
    {
     "data": {
      "text/plain": [
       "['D:/DeepLearning/kcar_data/GM대우/알페온/알페온',\n",
       " 'D:/DeepLearning/kcar_data/기아/K3/더뉴K3',\n",
       " 'D:/DeepLearning/kcar_data/기아/K3/올뉴K3',\n",
       " 'D:/DeepLearning/kcar_data/기아/K5/K5 2세대',\n",
       " 'D:/DeepLearning/kcar_data/기아/K5/K5(JF)',\n",
       " 'D:/DeepLearning/kcar_data/기아/K5/더뉴K5',\n",
       " 'D:/DeepLearning/kcar_data/기아/K7/올 뉴 K7',\n",
       " 'D:/DeepLearning/kcar_data/기아/K9/K9',\n",
       " 'D:/DeepLearning/kcar_data/기아/니로/니로',\n",
       " 'D:/DeepLearning/kcar_data/기아/레이/더 뉴 레이',\n",
       " 'D:/DeepLearning/kcar_data/기아/레이/레이',\n",
       " 'D:/DeepLearning/kcar_data/기아/모닝/더 뉴 모닝',\n",
       " 'D:/DeepLearning/kcar_data/기아/모닝/올 뉴 모닝(JA)',\n",
       " 'D:/DeepLearning/kcar_data/기아/모하비/더 뉴 모하비',\n",
       " 'D:/DeepLearning/kcar_data/기아/스토닉/스토닉',\n",
       " 'D:/DeepLearning/kcar_data/기아/스팅어/스팅어',\n",
       " 'D:/DeepLearning/kcar_data/기아/스포티지/The SUV 스포티지',\n",
       " 'D:/DeepLearning/kcar_data/기아/스포티지/스포티지',\n",
       " 'D:/DeepLearning/kcar_data/기아/스포티지/스포티지 R',\n",
       " 'D:/DeepLearning/kcar_data/기아/스포티지/스포티지 더볼드',\n",
       " 'D:/DeepLearning/kcar_data/기아/쏘렌토/더 뉴 쏘렌토',\n",
       " 'D:/DeepLearning/kcar_data/기아/쏘울/쏘울',\n",
       " 'D:/DeepLearning/kcar_data/기아/카니발/올 뉴 카니발',\n",
       " 'D:/DeepLearning/kcar_data/기아/카니발/카니발R',\n",
       " 'D:/DeepLearning/kcar_data/기아/카렌스/뉴카렌스',\n",
       " 'D:/DeepLearning/kcar_data/기아/포르테/포르테',\n",
       " 'D:/DeepLearning/kcar_data/기아/프라이드/더뉴프라이드',\n",
       " 'D:/DeepLearning/kcar_data/르노삼성/QM3/QM3',\n",
       " 'D:/DeepLearning/kcar_data/르노삼성/QM6/QM6',\n",
       " 'D:/DeepLearning/kcar_data/르노삼성/SM3/SM3 네오',\n",
       " 'D:/DeepLearning/kcar_data/르노삼성/SM3/뉴SM3',\n",
       " 'D:/DeepLearning/kcar_data/르노삼성/SM3/뉴SM3(신형)',\n",
       " 'D:/DeepLearning/kcar_data/르노삼성/SM5/SM5 노바',\n",
       " 'D:/DeepLearning/kcar_data/르노삼성/SM6/SM6',\n",
       " 'D:/DeepLearning/kcar_data/르노삼성/SM7/SM7 노바',\n",
       " 'D:/DeepLearning/kcar_data/르노삼성/클리오/클리오',\n",
       " 'D:/DeepLearning/kcar_data/쌍용/렉스턴/G4 렉스턴',\n",
       " 'D:/DeepLearning/kcar_data/쌍용/코란도/코란도 C',\n",
       " 'D:/DeepLearning/kcar_data/쌍용/코란도/코란도스포츠',\n",
       " 'D:/DeepLearning/kcar_data/쌍용/코란도/코란도투리스모',\n",
       " 'D:/DeepLearning/kcar_data/쌍용/티볼리/티볼리',\n",
       " 'D:/DeepLearning/kcar_data/쌍용/티볼리/티볼리에어',\n",
       " 'D:/DeepLearning/kcar_data/제네시스/G70/G70',\n",
       " 'D:/DeepLearning/kcar_data/제네시스/G80/G80',\n",
       " 'D:/DeepLearning/kcar_data/제네시스/G80/G80 스포츠',\n",
       " 'D:/DeepLearning/kcar_data/제네시스/G90/G90',\n",
       " 'D:/DeepLearning/kcar_data/현대/i30/i30',\n",
       " 'D:/DeepLearning/kcar_data/현대/i30/i30(PD)',\n",
       " 'D:/DeepLearning/kcar_data/현대/그랜저/그랜저 HG',\n",
       " 'D:/DeepLearning/kcar_data/현대/그랜저/그랜저 IG',\n",
       " 'D:/DeepLearning/kcar_data/현대/맥스크루즈/더 뉴 맥스크루즈',\n",
       " 'D:/DeepLearning/kcar_data/현대/벨로스터/벨로스터(JS)',\n",
       " 'D:/DeepLearning/kcar_data/현대/소나타/LF 소나타',\n",
       " 'D:/DeepLearning/kcar_data/현대/소나타/LF 소나타 하이브리드',\n",
       " 'D:/DeepLearning/kcar_data/현대/소나타/NF 소나타',\n",
       " 'D:/DeepLearning/kcar_data/현대/소나타/YF 소나타',\n",
       " 'D:/DeepLearning/kcar_data/현대/소나타/소나타 뉴 라이즈',\n",
       " 'D:/DeepLearning/kcar_data/현대/스타렉스/그랜드 스타렉스',\n",
       " 'D:/DeepLearning/kcar_data/현대/스타렉스/더뉴그랜드스타렉스',\n",
       " 'D:/DeepLearning/kcar_data/현대/싼타페/싼타페 DM',\n",
       " 'D:/DeepLearning/kcar_data/현대/싼타페/싼타페 TM',\n",
       " 'D:/DeepLearning/kcar_data/현대/아반떼/더뉴아반떼AD',\n",
       " 'D:/DeepLearning/kcar_data/현대/아반떼/아반떼AD',\n",
       " 'D:/DeepLearning/kcar_data/현대/아반떼/아반떼MD',\n",
       " 'D:/DeepLearning/kcar_data/현대/아반떼/아반떼XD',\n",
       " 'D:/DeepLearning/kcar_data/현대/아이오닉/아이오닉 electric',\n",
       " 'D:/DeepLearning/kcar_data/현대/아이오닉/아이오닉 hybrid',\n",
       " 'D:/DeepLearning/kcar_data/현대/에쿠스/에쿠스(신형)',\n",
       " 'D:/DeepLearning/kcar_data/현대/엑센트/엑센트 (신형)',\n",
       " 'D:/DeepLearning/kcar_data/현대/코나/코나',\n",
       " 'D:/DeepLearning/kcar_data/현대/투싼/올 뉴 투싼',\n",
       " 'D:/DeepLearning/kcar_data/현대/투싼/투싼',\n",
       " 'D:/DeepLearning/kcar_data/현대/투싼/투싼 ix',\n",
       " 'D:/DeepLearning/kcar_data/현대/팰리세이드/팰리세이드']"
      ]
     },
     "execution_count": 10,
     "metadata": {},
     "output_type": "execute_result"
    }
   ],
   "source": [
    "Model_path"
   ]
  },
  {
   "cell_type": "code",
   "execution_count": 11,
   "metadata": {},
   "outputs": [
    {
     "data": {
      "text/plain": [
       "74"
      ]
     },
     "execution_count": 11,
     "metadata": {},
     "output_type": "execute_result"
    }
   ],
   "source": [
    "len(Model_path)"
   ]
  },
  {
   "cell_type": "markdown",
   "metadata": {},
   "source": [
    "### 차종별로 카데고리화 작업"
   ]
  },
  {
   "cell_type": "code",
   "execution_count": 12,
   "metadata": {},
   "outputs": [
    {
     "data": {
      "text/plain": [
       "['D:/DeepLearning/kcar_', '/GM대우/알페온/알페온']"
      ]
     },
     "execution_count": 12,
     "metadata": {},
     "output_type": "execute_result"
    }
   ],
   "source": [
    "Model_path[0].split('data')"
   ]
  },
  {
   "cell_type": "code",
   "execution_count": 13,
   "metadata": {
    "scrolled": false
   },
   "outputs": [
    {
     "data": {
      "text/plain": [
       "'/GM대우/알페온/알페온'"
      ]
     },
     "execution_count": 13,
     "metadata": {},
     "output_type": "execute_result"
    }
   ],
   "source": [
    "Model_path[0].split(\"data\")[1]"
   ]
  },
  {
   "cell_type": "code",
   "execution_count": 14,
   "metadata": {
    "scrolled": true
   },
   "outputs": [
    {
     "name": "stdout",
     "output_type": "stream",
     "text": [
      "/GM대우/알페온/알페온\n",
      "/기아/K3/더뉴K3\n",
      "/기아/K3/올뉴K3\n",
      "/기아/K5/K5 2세대\n",
      "/기아/K5/K5(JF)\n",
      "/기아/K5/더뉴K5\n",
      "/기아/K7/올 뉴 K7\n",
      "/기아/K9/K9\n",
      "/기아/니로/니로\n",
      "/기아/레이/더 뉴 레이\n",
      "/기아/레이/레이\n",
      "/기아/모닝/더 뉴 모닝\n",
      "/기아/모닝/올 뉴 모닝(JA)\n",
      "/기아/모하비/더 뉴 모하비\n",
      "/기아/스토닉/스토닉\n",
      "/기아/스팅어/스팅어\n",
      "/기아/스포티지/The SUV 스포티지\n",
      "/기아/스포티지/스포티지\n",
      "/기아/스포티지/스포티지 R\n",
      "/기아/스포티지/스포티지 더볼드\n",
      "/기아/쏘렌토/더 뉴 쏘렌토\n",
      "/기아/쏘울/쏘울\n",
      "/기아/카니발/올 뉴 카니발\n",
      "/기아/카니발/카니발R\n",
      "/기아/카렌스/뉴카렌스\n",
      "/기아/포르테/포르테\n",
      "/기아/프라이드/더뉴프라이드\n",
      "/르노삼성/QM3/QM3\n",
      "/르노삼성/QM6/QM6\n",
      "/르노삼성/SM3/SM3 네오\n",
      "/르노삼성/SM3/뉴SM3\n",
      "/르노삼성/SM3/뉴SM3(신형)\n",
      "/르노삼성/SM5/SM5 노바\n",
      "/르노삼성/SM6/SM6\n",
      "/르노삼성/SM7/SM7 노바\n",
      "/르노삼성/클리오/클리오\n",
      "/쌍용/렉스턴/G4 렉스턴\n",
      "/쌍용/코란도/코란도 C\n",
      "/쌍용/코란도/코란도스포츠\n",
      "/쌍용/코란도/코란도투리스모\n",
      "/쌍용/티볼리/티볼리\n",
      "/쌍용/티볼리/티볼리에어\n",
      "/제네시스/G70/G70\n",
      "/제네시스/G80/G80\n",
      "/제네시스/G80/G80 스포츠\n",
      "/제네시스/G90/G90\n",
      "/현대/i30/i30\n",
      "/현대/i30/i30(PD)\n",
      "/현대/그랜저/그랜저 HG\n",
      "/현대/그랜저/그랜저 IG\n",
      "/현대/맥스크루즈/더 뉴 맥스크루즈\n",
      "/현대/벨로스터/벨로스터(JS)\n",
      "/현대/소나타/LF 소나타\n",
      "/현대/소나타/LF 소나타 하이브리드\n",
      "/현대/소나타/NF 소나타\n",
      "/현대/소나타/YF 소나타\n",
      "/현대/소나타/소나타 뉴 라이즈\n",
      "/현대/스타렉스/그랜드 스타렉스\n",
      "/현대/스타렉스/더뉴그랜드스타렉스\n",
      "/현대/싼타페/싼타페 DM\n",
      "/현대/싼타페/싼타페 TM\n",
      "/현대/아반떼/더뉴아반떼AD\n",
      "/현대/아반떼/아반떼AD\n",
      "/현대/아반떼/아반떼MD\n",
      "/현대/아반떼/아반떼XD\n",
      "/현대/아이오닉/아이오닉 electric\n",
      "/현대/아이오닉/아이오닉 hybrid\n",
      "/현대/에쿠스/에쿠스(신형)\n",
      "/현대/엑센트/엑센트 (신형)\n",
      "/현대/코나/코나\n",
      "/현대/투싼/올 뉴 투싼\n",
      "/현대/투싼/투싼\n",
      "/현대/투싼/투싼 ix\n",
      "/현대/팰리세이드/팰리세이드\n"
     ]
    }
   ],
   "source": [
    "Model_list = []\n",
    "for i in range(0, len(Model_path)):\n",
    "    print(Model_path[i].split(\"data\")[1])\n",
    "    Model_list.append(Model_path[i].split(\"data\")[1])"
   ]
  },
  {
   "cell_type": "code",
   "execution_count": 15,
   "metadata": {
    "scrolled": true
   },
   "outputs": [
    {
     "data": {
      "text/plain": [
       "['/GM대우/알페온/알페온',\n",
       " '/기아/K3/더뉴K3',\n",
       " '/기아/K3/올뉴K3',\n",
       " '/기아/K5/K5 2세대',\n",
       " '/기아/K5/K5(JF)',\n",
       " '/기아/K5/더뉴K5',\n",
       " '/기아/K7/올 뉴 K7',\n",
       " '/기아/K9/K9',\n",
       " '/기아/니로/니로',\n",
       " '/기아/레이/더 뉴 레이',\n",
       " '/기아/레이/레이',\n",
       " '/기아/모닝/더 뉴 모닝',\n",
       " '/기아/모닝/올 뉴 모닝(JA)',\n",
       " '/기아/모하비/더 뉴 모하비',\n",
       " '/기아/스토닉/스토닉',\n",
       " '/기아/스팅어/스팅어',\n",
       " '/기아/스포티지/The SUV 스포티지',\n",
       " '/기아/스포티지/스포티지',\n",
       " '/기아/스포티지/스포티지 R',\n",
       " '/기아/스포티지/스포티지 더볼드',\n",
       " '/기아/쏘렌토/더 뉴 쏘렌토',\n",
       " '/기아/쏘울/쏘울',\n",
       " '/기아/카니발/올 뉴 카니발',\n",
       " '/기아/카니발/카니발R',\n",
       " '/기아/카렌스/뉴카렌스',\n",
       " '/기아/포르테/포르테',\n",
       " '/기아/프라이드/더뉴프라이드',\n",
       " '/르노삼성/QM3/QM3',\n",
       " '/르노삼성/QM6/QM6',\n",
       " '/르노삼성/SM3/SM3 네오',\n",
       " '/르노삼성/SM3/뉴SM3',\n",
       " '/르노삼성/SM3/뉴SM3(신형)',\n",
       " '/르노삼성/SM5/SM5 노바',\n",
       " '/르노삼성/SM6/SM6',\n",
       " '/르노삼성/SM7/SM7 노바',\n",
       " '/르노삼성/클리오/클리오',\n",
       " '/쌍용/렉스턴/G4 렉스턴',\n",
       " '/쌍용/코란도/코란도 C',\n",
       " '/쌍용/코란도/코란도스포츠',\n",
       " '/쌍용/코란도/코란도투리스모',\n",
       " '/쌍용/티볼리/티볼리',\n",
       " '/쌍용/티볼리/티볼리에어',\n",
       " '/제네시스/G70/G70',\n",
       " '/제네시스/G80/G80',\n",
       " '/제네시스/G80/G80 스포츠',\n",
       " '/제네시스/G90/G90',\n",
       " '/현대/i30/i30',\n",
       " '/현대/i30/i30(PD)',\n",
       " '/현대/그랜저/그랜저 HG',\n",
       " '/현대/그랜저/그랜저 IG',\n",
       " '/현대/맥스크루즈/더 뉴 맥스크루즈',\n",
       " '/현대/벨로스터/벨로스터(JS)',\n",
       " '/현대/소나타/LF 소나타',\n",
       " '/현대/소나타/LF 소나타 하이브리드',\n",
       " '/현대/소나타/NF 소나타',\n",
       " '/현대/소나타/YF 소나타',\n",
       " '/현대/소나타/소나타 뉴 라이즈',\n",
       " '/현대/스타렉스/그랜드 스타렉스',\n",
       " '/현대/스타렉스/더뉴그랜드스타렉스',\n",
       " '/현대/싼타페/싼타페 DM',\n",
       " '/현대/싼타페/싼타페 TM',\n",
       " '/현대/아반떼/더뉴아반떼AD',\n",
       " '/현대/아반떼/아반떼AD',\n",
       " '/현대/아반떼/아반떼MD',\n",
       " '/현대/아반떼/아반떼XD',\n",
       " '/현대/아이오닉/아이오닉 electric',\n",
       " '/현대/아이오닉/아이오닉 hybrid',\n",
       " '/현대/에쿠스/에쿠스(신형)',\n",
       " '/현대/엑센트/엑센트 (신형)',\n",
       " '/현대/코나/코나',\n",
       " '/현대/투싼/올 뉴 투싼',\n",
       " '/현대/투싼/투싼',\n",
       " '/현대/투싼/투싼 ix',\n",
       " '/현대/팰리세이드/팰리세이드']"
      ]
     },
     "execution_count": 15,
     "metadata": {},
     "output_type": "execute_result"
    }
   ],
   "source": [
    "Model_list"
   ]
  },
  {
   "cell_type": "code",
   "execution_count": null,
   "metadata": {},
   "outputs": [],
   "source": []
  },
  {
   "cell_type": "markdown",
   "metadata": {},
   "source": [
    "### 데이터 부풀리기\n",
    "\n",
    "   - 기존 차량 별 데이터의 양이 일정치 않고 부족하여 데이터 부풀리기를 실시하여야 한다.\n",
    "   - icrawler 를 이용한 구글 이미지 크롤링 ( 장점 : 빠르고 쉽게 데이터를 늘릴 수 있다 / 단점 : 깨끗한 데이터가 들어오지 않을 확률이 크다)\n",
    "   - ImageDataGenerator 를 이용한 데이터 부풀리기"
   ]
  },
  {
   "cell_type": "code",
   "execution_count": 16,
   "metadata": {},
   "outputs": [],
   "source": [
    "# pip install icrawler"
   ]
  },
  {
   "cell_type": "code",
   "execution_count": 17,
   "metadata": {},
   "outputs": [],
   "source": [
    "# from icrawler.builtin import GoogleImageCrawler\n",
    "\n",
    "# caltech_dir = \"C:/Users/1-11/Pictures/kcar_data\"\n",
    "# categories = Model_list\n",
    "\n",
    "# for idx, cat in enumerate(categories):\n",
    "\n",
    "#     image_dir = caltech_dir + cat\n",
    "#     search_word = cat.split('/')[3]\n",
    "#     print()\n",
    "    \n",
    "#     google_crawler = GoogleImageCrawler(parser_threads=2, downloader_threads=4,\n",
    "#                                     storage={'root_dir': image_dir})\n",
    "\n",
    "#     google_crawler.crawl(keyword=search_word, max_num=500,min_size=None, max_size=None)"
   ]
  },
  {
   "cell_type": "code",
   "execution_count": null,
   "metadata": {},
   "outputs": [],
   "source": []
  },
  {
   "cell_type": "code",
   "execution_count": 18,
   "metadata": {
    "scrolled": true
   },
   "outputs": [
    {
     "name": "stderr",
     "output_type": "stream",
     "text": [
      "Using TensorFlow backend.\n"
     ]
    },
    {
     "name": "stdout",
     "output_type": "stream",
     "text": [
      "4463\n",
      "3811\n",
      "3029\n",
      "3189\n",
      "3157\n",
      "3019\n",
      "3154\n",
      "3145\n",
      "3118\n",
      "3119\n",
      "3119\n",
      "3153\n",
      "3167\n",
      "3114\n",
      "3113\n",
      "3132\n",
      "3146\n",
      "3136\n",
      "3121\n",
      "3136\n",
      "3111\n",
      "3136\n",
      "3138\n",
      "3105\n",
      "3098\n",
      "3112\n",
      "3109\n",
      "3088\n",
      "3113\n",
      "3121\n",
      "3116\n",
      "3101\n",
      "3129\n",
      "3126\n",
      "3124\n",
      "3122\n",
      "3129\n",
      "3125\n",
      "3104\n",
      "3140\n",
      "3146\n",
      "3138\n",
      "3122\n",
      "3173\n",
      "3121\n",
      "3126\n",
      "3135\n",
      "3135\n",
      "3160\n",
      "3130\n",
      "3110\n",
      "3110\n",
      "3154\n",
      "3115\n",
      "3119\n",
      "3138\n",
      "3135\n",
      "3137\n",
      "3105\n",
      "3122\n",
      "3105\n",
      "3139\n",
      "3124\n",
      "3114\n",
      "3137\n",
      "3122\n",
      "3126\n",
      "3122\n",
      "3155\n",
      "3154\n",
      "3158\n",
      "3128\n",
      "3135\n",
      "3103\n"
     ]
    }
   ],
   "source": [
    "from keras.preprocessing.image import ImageDataGenerator, array_to_img, img_to_array, load_img\n",
    "\n",
    "datagen = ImageDataGenerator(\n",
    "        rotation_range=40,\n",
    "        width_shift_range=0.2,\n",
    "        height_shift_range=0.2,\n",
    "        shear_range=0.2,\n",
    "        zoom_range=0.2,\n",
    "        horizontal_flip=True)\n",
    "\n",
    "caltech_dir = \"C:/Users/1-11/Pictures/kcar_data\"\n",
    "categories = Model_list\n",
    "\n",
    "for idx, cat in enumerate(categories):\n",
    "    \n",
    "    image_dir = caltech_dir + cat\n",
    "    files = glob.glob(image_dir+\"/*.jpg\")\n",
    "    \n",
    "    img_num = len(files) # 처음 해당 디렉토리의 이미지 파일 갯수를 측정합니다.\n",
    "    for i, f in enumerate(files):\n",
    "        img = load_img(f)  \n",
    "        x = img_to_array(img)  \n",
    "        x = x.reshape((1,) + x.shape)  \n",
    "\n",
    "        # 아래 .flow() 함수는 임의 변환된 이미지를 배치 단위로 생성해서\n",
    "        # 지정된 폴더에 저장합니다.\n",
    "        i = 0\n",
    "        for batch in datagen.flow(x, batch_size=1,\n",
    "                          save_to_dir=image_dir, save_prefix='car', save_format='jpg'):\n",
    "            i += 1\n",
    "            if i > 5 :\n",
    "                break # 이미지 5장을 생성하고 마칩니다\n",
    "        img_num += 5 # 5장씩 새로 생성할 때마다 전체 이미지 갯수를 증가 시킵니다.\n",
    "        print(img_num)\n",
    "        if img_num > 3010 :\n",
    "            break # 총 3010개가 넘어가면 해당 디렉토리에서는 데이터 부풀리기를 중단합니다."
   ]
  },
  {
   "cell_type": "code",
   "execution_count": null,
   "metadata": {},
   "outputs": [],
   "source": []
  },
  {
   "cell_type": "markdown",
   "metadata": {},
   "source": [
    "### 이미지 데이터 변환\n",
    "  - 64 by 64로 크기조정 및 각각의 이미지 파일은 RGB로 컨버팅하여 array 배열에 담는다"
   ]
  },
  {
   "cell_type": "code",
   "execution_count": 17,
   "metadata": {
    "scrolled": true
   },
   "outputs": [
    {
     "name": "stdout",
     "output_type": "stream",
     "text": [
      "/GM대우/알페온/알페온  :  D:/DeepLearning/kcar_data/GM대우/알페온/알페온\\000001.jpg\n",
      "/GM대우/알페온/알페온  :  D:/DeepLearning/kcar_data/GM대우/알페온/알페온\\car_0_2043.jpg\n",
      "/GM대우/알페온/알페온  :  D:/DeepLearning/kcar_data/GM대우/알페온/알페온\\car_0_3242.jpg\n",
      "/GM대우/알페온/알페온  :  D:/DeepLearning/kcar_data/GM대우/알페온/알페온\\car_0_4362.jpg\n",
      "/GM대우/알페온/알페온  파일 길이 :  1501\n",
      "/기아/K3/더뉴K3  :  D:/DeepLearning/kcar_data/기아/K3/더뉴K3\\car_0_0.jpg\n",
      "/기아/K3/더뉴K3  :  D:/DeepLearning/kcar_data/기아/K3/더뉴K3\\car_0_2712.jpg\n",
      "/기아/K3/더뉴K3  :  D:/DeepLearning/kcar_data/기아/K3/더뉴K3\\car_0_4470.jpg\n",
      "/기아/K3/더뉴K3  :  D:/DeepLearning/kcar_data/기아/K3/더뉴K3\\car_0_6315.jpg\n",
      "/기아/K3/더뉴K3  파일 길이 :  1501\n",
      "/기아/K3/올뉴K3  :  D:/DeepLearning/kcar_data/기아/K3/올뉴K3\\car_0_0.jpg\n",
      "/기아/K3/올뉴K3  :  D:/DeepLearning/kcar_data/기아/K3/올뉴K3\\car_0_2928.jpg\n",
      "/기아/K3/올뉴K3  :  D:/DeepLearning/kcar_data/기아/K3/올뉴K3\\car_0_475.jpg\n",
      "/기아/K3/올뉴K3  :  D:/DeepLearning/kcar_data/기아/K3/올뉴K3\\car_0_66.jpg\n",
      "/기아/K3/올뉴K3  파일 길이 :  1501\n",
      "/기아/K5/K5 2세대  :  D:/DeepLearning/kcar_data/기아/K5/K5 2세대\\car_0_100.jpg\n",
      "/기아/K5/K5 2세대  :  D:/DeepLearning/kcar_data/기아/K5/K5 2세대\\car_0_3203.jpg\n",
      "/기아/K5/K5 2세대  :  D:/DeepLearning/kcar_data/기아/K5/K5 2세대\\car_0_5537.jpg\n",
      "/기아/K5/K5 2세대  :  D:/DeepLearning/kcar_data/기아/K5/K5 2세대\\car_0_8002.jpg\n",
      "/기아/K5/K5 2세대  파일 길이 :  1501\n",
      "/기아/K5/K5(JF)  :  D:/DeepLearning/kcar_data/기아/K5/K5(JF)\\car_0_1000.jpg\n",
      "/기아/K5/K5(JF)  :  D:/DeepLearning/kcar_data/기아/K5/K5(JF)\\car_0_3016.jpg\n",
      "/기아/K5/K5(JF)  :  D:/DeepLearning/kcar_data/기아/K5/K5(JF)\\car_0_4968.jpg\n",
      "/기아/K5/K5(JF)  :  D:/DeepLearning/kcar_data/기아/K5/K5(JF)\\car_0_6820.jpg\n",
      "/기아/K5/K5(JF)  파일 길이 :  1501\n",
      "/기아/K5/더뉴K5  :  D:/DeepLearning/kcar_data/기아/K5/더뉴K5\\000001.jpg\n",
      "/기아/K5/더뉴K5  :  D:/DeepLearning/kcar_data/기아/K5/더뉴K5\\car_0_2619.jpg\n",
      "/기아/K5/더뉴K5  :  D:/DeepLearning/kcar_data/기아/K5/더뉴K5\\car_0_4565.jpg\n",
      "/기아/K5/더뉴K5  :  D:/DeepLearning/kcar_data/기아/K5/더뉴K5\\car_0_6551.jpg\n",
      "/기아/K5/더뉴K5  파일 길이 :  1501\n",
      "/기아/K7/올 뉴 K7  :  D:/DeepLearning/kcar_data/기아/K7/올 뉴 K7\\car_0_1001.jpg\n",
      "/기아/K7/올 뉴 K7  :  D:/DeepLearning/kcar_data/기아/K7/올 뉴 K7\\car_0_3677.jpg\n",
      "/기아/K7/올 뉴 K7  :  D:/DeepLearning/kcar_data/기아/K7/올 뉴 K7\\car_0_6090.jpg\n",
      "/기아/K7/올 뉴 K7  :  D:/DeepLearning/kcar_data/기아/K7/올 뉴 K7\\car_0_8645.jpg\n",
      "/기아/K7/올 뉴 K7  파일 길이 :  1501\n",
      "/기아/K9/K9  :  D:/DeepLearning/kcar_data/기아/K9/K9\\car_0_0.jpg\n",
      "/기아/K9/K9  :  D:/DeepLearning/kcar_data/기아/K9/K9\\car_0_2808.jpg\n",
      "/기아/K9/K9  :  D:/DeepLearning/kcar_data/기아/K9/K9\\car_0_4470.jpg\n",
      "/기아/K9/K9  :  D:/DeepLearning/kcar_data/기아/K9/K9\\car_0_6288.jpg\n",
      "/기아/K9/K9  파일 길이 :  1501\n",
      "/기아/니로/니로  :  D:/DeepLearning/kcar_data/기아/니로/니로\\car_0_1004.jpg\n",
      "/기아/니로/니로  :  D:/DeepLearning/kcar_data/기아/니로/니로\\car_0_2820.jpg\n",
      "/기아/니로/니로  :  D:/DeepLearning/kcar_data/기아/니로/니로\\car_0_4507.jpg\n",
      "/기아/니로/니로  :  D:/DeepLearning/kcar_data/기아/니로/니로\\car_0_6388.jpg\n",
      "/기아/니로/니로  파일 길이 :  1501\n",
      "/기아/레이/더 뉴 레이  :  D:/DeepLearning/kcar_data/기아/레이/더 뉴 레이\\car_0_1002.jpg\n",
      "/기아/레이/더 뉴 레이  :  D:/DeepLearning/kcar_data/기아/레이/더 뉴 레이\\car_0_2857.jpg\n",
      "/기아/레이/더 뉴 레이  :  D:/DeepLearning/kcar_data/기아/레이/더 뉴 레이\\car_0_4533.jpg\n",
      "/기아/레이/더 뉴 레이  :  D:/DeepLearning/kcar_data/기아/레이/더 뉴 레이\\car_0_6354.jpg\n",
      "/기아/레이/더 뉴 레이  파일 길이 :  1501\n",
      "/기아/레이/레이  :  D:/DeepLearning/kcar_data/기아/레이/레이\\car_0_1002.jpg\n",
      "/기아/레이/레이  :  D:/DeepLearning/kcar_data/기아/레이/레이\\car_0_2854.jpg\n",
      "/기아/레이/레이  :  D:/DeepLearning/kcar_data/기아/레이/레이\\car_0_4709.jpg\n",
      "/기아/레이/레이  :  D:/DeepLearning/kcar_data/기아/레이/레이\\car_0_6556.jpg\n",
      "/기아/레이/레이  파일 길이 :  1501\n",
      "/기아/모닝/더 뉴 모닝  :  D:/DeepLearning/kcar_data/기아/모닝/더 뉴 모닝\\car_0_1001.jpg\n",
      "/기아/모닝/더 뉴 모닝  :  D:/DeepLearning/kcar_data/기아/모닝/더 뉴 모닝\\car_0_3489.jpg\n",
      "/기아/모닝/더 뉴 모닝  :  D:/DeepLearning/kcar_data/기아/모닝/더 뉴 모닝\\car_0_5813.jpg\n",
      "/기아/모닝/더 뉴 모닝  :  D:/DeepLearning/kcar_data/기아/모닝/더 뉴 모닝\\car_0_8292.jpg\n",
      "/기아/모닝/더 뉴 모닝  파일 길이 :  1501\n",
      "/기아/모닝/올 뉴 모닝(JA)  :  D:/DeepLearning/kcar_data/기아/모닝/올 뉴 모닝(JA)\\car_0_1013.jpg\n",
      "/기아/모닝/올 뉴 모닝(JA)  :  D:/DeepLearning/kcar_data/기아/모닝/올 뉴 모닝(JA)\\car_0_3645.jpg\n",
      "/기아/모닝/올 뉴 모닝(JA)  :  D:/DeepLearning/kcar_data/기아/모닝/올 뉴 모닝(JA)\\car_0_6200.jpg\n",
      "/기아/모닝/올 뉴 모닝(JA)  :  D:/DeepLearning/kcar_data/기아/모닝/올 뉴 모닝(JA)\\car_0_8836.jpg\n",
      "/기아/모닝/올 뉴 모닝(JA)  파일 길이 :  1501\n",
      "/기아/모하비/더 뉴 모하비  :  D:/DeepLearning/kcar_data/기아/모하비/더 뉴 모하비\\car_0_1.jpg\n",
      "/기아/모하비/더 뉴 모하비  :  D:/DeepLearning/kcar_data/기아/모하비/더 뉴 모하비\\car_0_278.jpg\n",
      "/기아/모하비/더 뉴 모하비  :  D:/DeepLearning/kcar_data/기아/모하비/더 뉴 모하비\\car_0_4680.jpg\n",
      "/기아/모하비/더 뉴 모하비  :  D:/DeepLearning/kcar_data/기아/모하비/더 뉴 모하비\\car_0_6388.jpg\n",
      "/기아/모하비/더 뉴 모하비  파일 길이 :  1501\n",
      "/기아/스토닉/스토닉  :  D:/DeepLearning/kcar_data/기아/스토닉/스토닉\\car_0_1.jpg\n",
      "/기아/스토닉/스토닉  :  D:/DeepLearning/kcar_data/기아/스토닉/스토닉\\car_0_2700.jpg\n",
      "/기아/스토닉/스토닉  :  D:/DeepLearning/kcar_data/기아/스토닉/스토닉\\car_0_4593.jpg\n",
      "/기아/스토닉/스토닉  :  D:/DeepLearning/kcar_data/기아/스토닉/스토닉\\car_0_6412.jpg\n",
      "/기아/스토닉/스토닉  파일 길이 :  1501\n",
      "/기아/스팅어/스팅어  :  D:/DeepLearning/kcar_data/기아/스팅어/스팅어\\car_0_1004.jpg\n",
      "/기아/스팅어/스팅어  :  D:/DeepLearning/kcar_data/기아/스팅어/스팅어\\car_0_2852.jpg\n",
      "/기아/스팅어/스팅어  :  D:/DeepLearning/kcar_data/기아/스팅어/스팅어\\car_0_4612.jpg\n",
      "/기아/스팅어/스팅어  :  D:/DeepLearning/kcar_data/기아/스팅어/스팅어\\car_0_6404.jpg\n",
      "/기아/스팅어/스팅어  파일 길이 :  1501\n",
      "/기아/스포티지/The SUV 스포티지  :  D:/DeepLearning/kcar_data/기아/스포티지/The SUV 스포티지\\car_0_1005.jpg\n",
      "/기아/스포티지/The SUV 스포티지  :  D:/DeepLearning/kcar_data/기아/스포티지/The SUV 스포티지\\car_0_3550.jpg\n",
      "/기아/스포티지/The SUV 스포티지  :  D:/DeepLearning/kcar_data/기아/스포티지/The SUV 스포티지\\car_0_6159.jpg\n",
      "/기아/스포티지/The SUV 스포티지  :  D:/DeepLearning/kcar_data/기아/스포티지/The SUV 스포티지\\car_0_8537.jpg\n",
      "/기아/스포티지/The SUV 스포티지  파일 길이 :  1501\n",
      "/기아/스포티지/스포티지  :  D:/DeepLearning/kcar_data/기아/스포티지/스포티지\\car_0_1001.jpg\n",
      "/기아/스포티지/스포티지  :  D:/DeepLearning/kcar_data/기아/스포티지/스포티지\\car_0_2849.jpg\n",
      "/기아/스포티지/스포티지  :  D:/DeepLearning/kcar_data/기아/스포티지/스포티지\\car_0_4776.jpg\n",
      "/기아/스포티지/스포티지  :  D:/DeepLearning/kcar_data/기아/스포티지/스포티지\\car_0_6652.jpg\n",
      "/기아/스포티지/스포티지  파일 길이 :  1501\n",
      "/기아/스포티지/스포티지 R  :  D:/DeepLearning/kcar_data/기아/스포티지/스포티지 R\\car_0_0.jpg\n",
      "/기아/스포티지/스포티지 R  :  D:/DeepLearning/kcar_data/기아/스포티지/스포티지 R\\car_0_2787.jpg\n",
      "/기아/스포티지/스포티지 R  :  D:/DeepLearning/kcar_data/기아/스포티지/스포티지 R\\car_0_4586.jpg\n",
      "/기아/스포티지/스포티지 R  :  D:/DeepLearning/kcar_data/기아/스포티지/스포티지 R\\car_0_6328.jpg\n",
      "/기아/스포티지/스포티지 R  파일 길이 :  1501\n",
      "/기아/스포티지/스포티지 더볼드  :  D:/DeepLearning/kcar_data/기아/스포티지/스포티지 더볼드\\car_0_1000.jpg\n",
      "/기아/스포티지/스포티지 더볼드  :  D:/DeepLearning/kcar_data/기아/스포티지/스포티지 더볼드\\car_0_2738.jpg\n",
      "/기아/스포티지/스포티지 더볼드  :  D:/DeepLearning/kcar_data/기아/스포티지/스포티지 더볼드\\car_0_457.jpg\n",
      "/기아/스포티지/스포티지 더볼드  :  D:/DeepLearning/kcar_data/기아/스포티지/스포티지 더볼드\\car_0_6393.jpg\n",
      "/기아/스포티지/스포티지 더볼드  파일 길이 :  1501\n",
      "/기아/쏘렌토/더 뉴 쏘렌토  :  D:/DeepLearning/kcar_data/기아/쏘렌토/더 뉴 쏘렌토\\car_0_1.jpg\n",
      "/기아/쏘렌토/더 뉴 쏘렌토  :  D:/DeepLearning/kcar_data/기아/쏘렌토/더 뉴 쏘렌토\\car_0_2770.jpg\n",
      "/기아/쏘렌토/더 뉴 쏘렌토  :  D:/DeepLearning/kcar_data/기아/쏘렌토/더 뉴 쏘렌토\\car_0_4604.jpg\n",
      "/기아/쏘렌토/더 뉴 쏘렌토  :  D:/DeepLearning/kcar_data/기아/쏘렌토/더 뉴 쏘렌토\\car_0_6403.jpg\n",
      "/기아/쏘렌토/더 뉴 쏘렌토  파일 길이 :  1501\n",
      "/기아/쏘울/쏘울  :  D:/DeepLearning/kcar_data/기아/쏘울/쏘울\\000001.jpg\n",
      "/기아/쏘울/쏘울  :  D:/DeepLearning/kcar_data/기아/쏘울/쏘울\\car_0_245.jpg\n",
      "/기아/쏘울/쏘울  :  D:/DeepLearning/kcar_data/기아/쏘울/쏘울\\car_0_4380.jpg\n",
      "/기아/쏘울/쏘울  :  D:/DeepLearning/kcar_data/기아/쏘울/쏘울\\car_0_6216.jpg\n",
      "/기아/쏘울/쏘울  파일 길이 :  1501\n",
      "/기아/카니발/올 뉴 카니발  :  D:/DeepLearning/kcar_data/기아/카니발/올 뉴 카니발\\car_0_100.jpg\n",
      "/기아/카니발/올 뉴 카니발  :  D:/DeepLearning/kcar_data/기아/카니발/올 뉴 카니발\\car_0_28.jpg\n",
      "/기아/카니발/올 뉴 카니발  :  D:/DeepLearning/kcar_data/기아/카니발/올 뉴 카니발\\car_0_4594.jpg\n",
      "/기아/카니발/올 뉴 카니발  :  D:/DeepLearning/kcar_data/기아/카니발/올 뉴 카니발\\car_0_6253.jpg\n",
      "/기아/카니발/올 뉴 카니발  파일 길이 :  1501\n",
      "/기아/카니발/카니발R  :  D:/DeepLearning/kcar_data/기아/카니발/카니발R\\car_0_1.jpg\n",
      "/기아/카니발/카니발R  :  D:/DeepLearning/kcar_data/기아/카니발/카니발R\\car_0_2834.jpg\n",
      "/기아/카니발/카니발R  :  D:/DeepLearning/kcar_data/기아/카니발/카니발R\\car_0_4639.jpg\n",
      "/기아/카니발/카니발R  :  D:/DeepLearning/kcar_data/기아/카니발/카니발R\\car_0_6317.jpg\n",
      "/기아/카니발/카니발R  파일 길이 :  1501\n",
      "/기아/카렌스/뉴카렌스  :  D:/DeepLearning/kcar_data/기아/카렌스/뉴카렌스\\car_0_1.jpg\n",
      "/기아/카렌스/뉴카렌스  :  D:/DeepLearning/kcar_data/기아/카렌스/뉴카렌스\\car_0_2945.jpg\n",
      "/기아/카렌스/뉴카렌스  :  D:/DeepLearning/kcar_data/기아/카렌스/뉴카렌스\\car_0_4770.jpg\n",
      "/기아/카렌스/뉴카렌스  :  D:/DeepLearning/kcar_data/기아/카렌스/뉴카렌스\\car_0_6785.jpg\n",
      "/기아/카렌스/뉴카렌스  파일 길이 :  1501\n",
      "/기아/포르테/포르테  :  D:/DeepLearning/kcar_data/기아/포르테/포르테\\car_0_1004.jpg\n",
      "/기아/포르테/포르테  :  D:/DeepLearning/kcar_data/기아/포르테/포르테\\car_0_2733.jpg\n",
      "/기아/포르테/포르테  :  D:/DeepLearning/kcar_data/기아/포르테/포르테\\car_0_4624.jpg\n",
      "/기아/포르테/포르테  :  D:/DeepLearning/kcar_data/기아/포르테/포르테\\car_0_6640.jpg\n",
      "/기아/포르테/포르테  파일 길이 :  1501\n",
      "/기아/프라이드/더뉴프라이드  :  D:/DeepLearning/kcar_data/기아/프라이드/더뉴프라이드\\car_0_1001.jpg\n"
     ]
    },
    {
     "name": "stdout",
     "output_type": "stream",
     "text": [
      "/기아/프라이드/더뉴프라이드  :  D:/DeepLearning/kcar_data/기아/프라이드/더뉴프라이드\\car_0_2818.jpg\n",
      "/기아/프라이드/더뉴프라이드  :  D:/DeepLearning/kcar_data/기아/프라이드/더뉴프라이드\\car_0_4540.jpg\n",
      "/기아/프라이드/더뉴프라이드  :  D:/DeepLearning/kcar_data/기아/프라이드/더뉴프라이드\\car_0_6394.jpg\n",
      "/기아/프라이드/더뉴프라이드  파일 길이 :  1501\n",
      "/르노삼성/QM3/QM3  :  D:/DeepLearning/kcar_data/르노삼성/QM3/QM3\\car_0_1001.jpg\n",
      "/르노삼성/QM3/QM3  :  D:/DeepLearning/kcar_data/르노삼성/QM3/QM3\\car_0_2786.jpg\n",
      "/르노삼성/QM3/QM3  :  D:/DeepLearning/kcar_data/르노삼성/QM3/QM3\\car_0_4510.jpg\n",
      "/르노삼성/QM3/QM3  :  D:/DeepLearning/kcar_data/르노삼성/QM3/QM3\\car_0_6194.jpg\n",
      "/르노삼성/QM3/QM3  파일 길이 :  1501\n",
      "/르노삼성/QM6/QM6  :  D:/DeepLearning/kcar_data/르노삼성/QM6/QM6\\car_0_1004.jpg\n",
      "/르노삼성/QM6/QM6  :  D:/DeepLearning/kcar_data/르노삼성/QM6/QM6\\car_0_2834.jpg\n",
      "/르노삼성/QM6/QM6  :  D:/DeepLearning/kcar_data/르노삼성/QM6/QM6\\car_0_4573.jpg\n",
      "/르노삼성/QM6/QM6  :  D:/DeepLearning/kcar_data/르노삼성/QM6/QM6\\car_0_6513.jpg\n",
      "/르노삼성/QM6/QM6  파일 길이 :  1501\n",
      "/르노삼성/SM3/SM3 네오  :  D:/DeepLearning/kcar_data/르노삼성/SM3/SM3 네오\\car_0_0.jpg\n",
      "/르노삼성/SM3/SM3 네오  :  D:/DeepLearning/kcar_data/르노삼성/SM3/SM3 네오\\car_0_2790.jpg\n",
      "/르노삼성/SM3/SM3 네오  :  D:/DeepLearning/kcar_data/르노삼성/SM3/SM3 네오\\car_0_4544.jpg\n",
      "/르노삼성/SM3/SM3 네오  :  D:/DeepLearning/kcar_data/르노삼성/SM3/SM3 네오\\car_0_6225.jpg\n",
      "/르노삼성/SM3/SM3 네오  파일 길이 :  1501\n",
      "/르노삼성/SM3/뉴SM3  :  D:/DeepLearning/kcar_data/르노삼성/SM3/뉴SM3\\car_0_1000.jpg\n",
      "/르노삼성/SM3/뉴SM3  :  D:/DeepLearning/kcar_data/르노삼성/SM3/뉴SM3\\car_0_2824.jpg\n",
      "/르노삼성/SM3/뉴SM3  :  D:/DeepLearning/kcar_data/르노삼성/SM3/뉴SM3\\car_0_4742.jpg\n",
      "/르노삼성/SM3/뉴SM3  :  D:/DeepLearning/kcar_data/르노삼성/SM3/뉴SM3\\car_0_6527.jpg\n",
      "/르노삼성/SM3/뉴SM3  파일 길이 :  1501\n",
      "/르노삼성/SM3/뉴SM3(신형)  :  D:/DeepLearning/kcar_data/르노삼성/SM3/뉴SM3(신형)\\car_0_1000.jpg\n",
      "/르노삼성/SM3/뉴SM3(신형)  :  D:/DeepLearning/kcar_data/르노삼성/SM3/뉴SM3(신형)\\car_0_2749.jpg\n",
      "/르노삼성/SM3/뉴SM3(신형)  :  D:/DeepLearning/kcar_data/르노삼성/SM3/뉴SM3(신형)\\car_0_4594.jpg\n",
      "/르노삼성/SM3/뉴SM3(신형)  :  D:/DeepLearning/kcar_data/르노삼성/SM3/뉴SM3(신형)\\car_0_6558.jpg\n",
      "/르노삼성/SM3/뉴SM3(신형)  파일 길이 :  1501\n",
      "/르노삼성/SM5/SM5 노바  :  D:/DeepLearning/kcar_data/르노삼성/SM5/SM5 노바\\car_0_100.jpg\n",
      "/르노삼성/SM5/SM5 노바  :  D:/DeepLearning/kcar_data/르노삼성/SM5/SM5 노바\\car_0_2751.jpg\n",
      "/르노삼성/SM5/SM5 노바  :  D:/DeepLearning/kcar_data/르노삼성/SM5/SM5 노바\\car_0_4488.jpg\n",
      "/르노삼성/SM5/SM5 노바  :  D:/DeepLearning/kcar_data/르노삼성/SM5/SM5 노바\\car_0_6371.jpg\n",
      "/르노삼성/SM5/SM5 노바  파일 길이 :  1501\n",
      "/르노삼성/SM6/SM6  :  D:/DeepLearning/kcar_data/르노삼성/SM6/SM6\\car_0_0.jpg\n",
      "/르노삼성/SM6/SM6  :  D:/DeepLearning/kcar_data/르노삼성/SM6/SM6\\car_0_2852.jpg\n",
      "/르노삼성/SM6/SM6  :  D:/DeepLearning/kcar_data/르노삼성/SM6/SM6\\car_0_4720.jpg\n",
      "/르노삼성/SM6/SM6  :  D:/DeepLearning/kcar_data/르노삼성/SM6/SM6\\car_0_6592.jpg\n",
      "/르노삼성/SM6/SM6  파일 길이 :  1501\n",
      "/르노삼성/SM7/SM7 노바  :  D:/DeepLearning/kcar_data/르노삼성/SM7/SM7 노바\\car_0_0.jpg\n",
      "/르노삼성/SM7/SM7 노바  :  D:/DeepLearning/kcar_data/르노삼성/SM7/SM7 노바\\car_0_2808.jpg\n",
      "/르노삼성/SM7/SM7 노바  :  D:/DeepLearning/kcar_data/르노삼성/SM7/SM7 노바\\car_0_4564.jpg\n",
      "/르노삼성/SM7/SM7 노바  :  D:/DeepLearning/kcar_data/르노삼성/SM7/SM7 노바\\car_0_6377.jpg\n",
      "/르노삼성/SM7/SM7 노바  파일 길이 :  1501\n",
      "/르노삼성/클리오/클리오  :  D:/DeepLearning/kcar_data/르노삼성/클리오/클리오\\car_0_0.jpg\n",
      "/르노삼성/클리오/클리오  :  D:/DeepLearning/kcar_data/르노삼성/클리오/클리오\\car_0_2801.jpg\n",
      "/르노삼성/클리오/클리오  :  D:/DeepLearning/kcar_data/르노삼성/클리오/클리오\\car_0_4673.jpg\n",
      "/르노삼성/클리오/클리오  :  D:/DeepLearning/kcar_data/르노삼성/클리오/클리오\\car_0_6485.jpg\n",
      "/르노삼성/클리오/클리오  파일 길이 :  1501\n",
      "/쌍용/렉스턴/G4 렉스턴  :  D:/DeepLearning/kcar_data/쌍용/렉스턴/G4 렉스턴\\car_0_0.jpg\n",
      "/쌍용/렉스턴/G4 렉스턴  :  D:/DeepLearning/kcar_data/쌍용/렉스턴/G4 렉스턴\\car_0_2842.jpg\n",
      "/쌍용/렉스턴/G4 렉스턴  :  D:/DeepLearning/kcar_data/쌍용/렉스턴/G4 렉스턴\\car_0_4703.jpg\n",
      "/쌍용/렉스턴/G4 렉스턴  :  D:/DeepLearning/kcar_data/쌍용/렉스턴/G4 렉스턴\\car_0_6511.jpg\n",
      "/쌍용/렉스턴/G4 렉스턴  파일 길이 :  1501\n",
      "/쌍용/코란도/코란도 C  :  D:/DeepLearning/kcar_data/쌍용/코란도/코란도 C\\car_0_1000.jpg\n",
      "/쌍용/코란도/코란도 C  :  D:/DeepLearning/kcar_data/쌍용/코란도/코란도 C\\car_0_2700.jpg\n",
      "/쌍용/코란도/코란도 C  :  D:/DeepLearning/kcar_data/쌍용/코란도/코란도 C\\car_0_4518.jpg\n",
      "/쌍용/코란도/코란도 C  :  D:/DeepLearning/kcar_data/쌍용/코란도/코란도 C\\car_0_6348.jpg\n",
      "/쌍용/코란도/코란도 C  파일 길이 :  1501\n",
      "/쌍용/코란도/코란도스포츠  :  D:/DeepLearning/kcar_data/쌍용/코란도/코란도스포츠\\car_0_1000.jpg\n",
      "/쌍용/코란도/코란도스포츠  :  D:/DeepLearning/kcar_data/쌍용/코란도/코란도스포츠\\car_0_2806.jpg\n",
      "/쌍용/코란도/코란도스포츠  :  D:/DeepLearning/kcar_data/쌍용/코란도/코란도스포츠\\car_0_4578.jpg\n",
      "/쌍용/코란도/코란도스포츠  :  D:/DeepLearning/kcar_data/쌍용/코란도/코란도스포츠\\car_0_6407.jpg\n",
      "/쌍용/코란도/코란도스포츠  파일 길이 :  1501\n",
      "/쌍용/코란도/코란도투리스모  :  D:/DeepLearning/kcar_data/쌍용/코란도/코란도투리스모\\car_0_0.jpg\n",
      "/쌍용/코란도/코란도투리스모  :  D:/DeepLearning/kcar_data/쌍용/코란도/코란도투리스모\\car_0_2892.jpg\n",
      "/쌍용/코란도/코란도투리스모  :  D:/DeepLearning/kcar_data/쌍용/코란도/코란도투리스모\\car_0_4669.jpg\n",
      "/쌍용/코란도/코란도투리스모  :  D:/DeepLearning/kcar_data/쌍용/코란도/코란도투리스모\\car_0_6545.jpg\n",
      "/쌍용/코란도/코란도투리스모  파일 길이 :  1501\n",
      "/쌍용/티볼리/티볼리  :  D:/DeepLearning/kcar_data/쌍용/티볼리/티볼리\\car_0_1002.jpg\n",
      "/쌍용/티볼리/티볼리  :  D:/DeepLearning/kcar_data/쌍용/티볼리/티볼리\\car_0_288.jpg\n",
      "/쌍용/티볼리/티볼리  :  D:/DeepLearning/kcar_data/쌍용/티볼리/티볼리\\car_0_4630.jpg\n",
      "/쌍용/티볼리/티볼리  :  D:/DeepLearning/kcar_data/쌍용/티볼리/티볼리\\car_0_6407.jpg\n",
      "/쌍용/티볼리/티볼리  파일 길이 :  1501\n",
      "/쌍용/티볼리/티볼리에어  :  D:/DeepLearning/kcar_data/쌍용/티볼리/티볼리에어\\000001.jpg\n",
      "/쌍용/티볼리/티볼리에어  :  D:/DeepLearning/kcar_data/쌍용/티볼리/티볼리에어\\car_0_2575.jpg\n",
      "/쌍용/티볼리/티볼리에어  :  D:/DeepLearning/kcar_data/쌍용/티볼리/티볼리에어\\car_0_4390.jpg\n",
      "/쌍용/티볼리/티볼리에어  :  D:/DeepLearning/kcar_data/쌍용/티볼리/티볼리에어\\car_0_6183.jpg\n",
      "/쌍용/티볼리/티볼리에어  파일 길이 :  1501\n",
      "/제네시스/G70/G70  :  D:/DeepLearning/kcar_data/제네시스/G70/G70\\car_0_1011.jpg\n",
      "/제네시스/G70/G70  :  D:/DeepLearning/kcar_data/제네시스/G70/G70\\car_0_2790.jpg\n",
      "/제네시스/G70/G70  :  D:/DeepLearning/kcar_data/제네시스/G70/G70\\car_0_452.jpg\n",
      "/제네시스/G70/G70  :  D:/DeepLearning/kcar_data/제네시스/G70/G70\\car_0_6260.jpg\n",
      "/제네시스/G70/G70  파일 길이 :  1501\n",
      "/제네시스/G80/G80  :  D:/DeepLearning/kcar_data/제네시스/G80/G80\\car_0_1002.jpg\n",
      "/제네시스/G80/G80  :  D:/DeepLearning/kcar_data/제네시스/G80/G80\\car_0_3344.jpg\n",
      "/제네시스/G80/G80  :  D:/DeepLearning/kcar_data/제네시스/G80/G80\\car_0_5726.jpg\n",
      "/제네시스/G80/G80  :  D:/DeepLearning/kcar_data/제네시스/G80/G80\\car_0_8191.jpg\n",
      "/제네시스/G80/G80  파일 길이 :  1501\n",
      "/제네시스/G80/G80 스포츠  :  D:/DeepLearning/kcar_data/제네시스/G80/G80 스포츠\\000001.jpg\n",
      "/제네시스/G80/G80 스포츠  :  D:/DeepLearning/kcar_data/제네시스/G80/G80 스포츠\\car_0_2583.jpg\n",
      "/제네시스/G80/G80 스포츠  :  D:/DeepLearning/kcar_data/제네시스/G80/G80 스포츠\\car_0_4308.jpg\n",
      "/제네시스/G80/G80 스포츠  :  D:/DeepLearning/kcar_data/제네시스/G80/G80 스포츠\\car_0_6237.jpg\n",
      "/제네시스/G80/G80 스포츠  파일 길이 :  1501\n",
      "/제네시스/G90/G90  :  D:/DeepLearning/kcar_data/제네시스/G90/G90\\car_0_100.jpg\n",
      "/제네시스/G90/G90  :  D:/DeepLearning/kcar_data/제네시스/G90/G90\\car_0_2899.jpg\n",
      "/제네시스/G90/G90  :  D:/DeepLearning/kcar_data/제네시스/G90/G90\\car_0_4715.jpg\n",
      "/제네시스/G90/G90  :  D:/DeepLearning/kcar_data/제네시스/G90/G90\\car_0_6630.jpg\n",
      "/제네시스/G90/G90  파일 길이 :  1501\n",
      "/현대/i30/i30  :  D:/DeepLearning/kcar_data/현대/i30/i30\\car_0_0.jpg\n",
      "/현대/i30/i30  :  D:/DeepLearning/kcar_data/현대/i30/i30\\car_0_2692.jpg\n",
      "/현대/i30/i30  :  D:/DeepLearning/kcar_data/현대/i30/i30\\car_0_4551.jpg\n",
      "/현대/i30/i30  :  D:/DeepLearning/kcar_data/현대/i30/i30\\car_0_6367.jpg\n",
      "/현대/i30/i30  파일 길이 :  1501\n",
      "/현대/i30/i30(PD)  :  D:/DeepLearning/kcar_data/현대/i30/i30(PD)\\car_0_1.jpg\n",
      "/현대/i30/i30(PD)  :  D:/DeepLearning/kcar_data/현대/i30/i30(PD)\\car_0_281.jpg\n",
      "/현대/i30/i30(PD)  :  D:/DeepLearning/kcar_data/현대/i30/i30(PD)\\car_0_4812.jpg\n",
      "/현대/i30/i30(PD)  :  D:/DeepLearning/kcar_data/현대/i30/i30(PD)\\car_0_6474.jpg\n",
      "/현대/i30/i30(PD)  파일 길이 :  1501\n",
      "/현대/그랜저/그랜저 HG  :  D:/DeepLearning/kcar_data/현대/그랜저/그랜저 HG\\car_0_1002.jpg\n",
      "/현대/그랜저/그랜저 HG  :  D:/DeepLearning/kcar_data/현대/그랜저/그랜저 HG\\car_0_4157.jpg\n",
      "/현대/그랜저/그랜저 HG  :  D:/DeepLearning/kcar_data/현대/그랜저/그랜저 HG\\car_0_7144.jpg\n",
      "/현대/그랜저/그랜저 HG  :  D:/DeepLearning/kcar_data/현대/그랜저/그랜저 HG\\현대_그랜저HG240_2016_10시대_H240_V0.JPG\n",
      "/현대/그랜저/그랜저 HG  파일 길이 :  1501\n",
      "/현대/그랜저/그랜저 IG  :  D:/DeepLearning/kcar_data/현대/그랜저/그랜저 IG\\car_0_100.jpg\n",
      "/현대/그랜저/그랜저 IG  :  D:/DeepLearning/kcar_data/현대/그랜저/그랜저 IG\\car_0_2815.jpg\n",
      "/현대/그랜저/그랜저 IG  :  D:/DeepLearning/kcar_data/현대/그랜저/그랜저 IG\\car_0_4614.jpg\n",
      "/현대/그랜저/그랜저 IG  :  D:/DeepLearning/kcar_data/현대/그랜저/그랜저 IG\\car_0_651.jpg\n",
      "/현대/그랜저/그랜저 IG  파일 길이 :  1501\n",
      "/현대/맥스크루즈/더 뉴 맥스크루즈  :  D:/DeepLearning/kcar_data/현대/맥스크루즈/더 뉴 맥스크루즈\\car_0_0.jpg\n",
      "/현대/맥스크루즈/더 뉴 맥스크루즈  :  D:/DeepLearning/kcar_data/현대/맥스크루즈/더 뉴 맥스크루즈\\car_0_2797.jpg\n",
      "/현대/맥스크루즈/더 뉴 맥스크루즈  :  D:/DeepLearning/kcar_data/현대/맥스크루즈/더 뉴 맥스크루즈\\car_0_4529.jpg\n",
      "/현대/맥스크루즈/더 뉴 맥스크루즈  :  D:/DeepLearning/kcar_data/현대/맥스크루즈/더 뉴 맥스크루즈\\car_0_6374.jpg\n",
      "/현대/맥스크루즈/더 뉴 맥스크루즈  파일 길이 :  1501\n",
      "/현대/벨로스터/벨로스터(JS)  :  D:/DeepLearning/kcar_data/현대/벨로스터/벨로스터(JS)\\car_0_1003.jpg\n",
      "/현대/벨로스터/벨로스터(JS)  :  D:/DeepLearning/kcar_data/현대/벨로스터/벨로스터(JS)\\car_0_2819.jpg\n"
     ]
    },
    {
     "name": "stdout",
     "output_type": "stream",
     "text": [
      "/현대/벨로스터/벨로스터(JS)  :  D:/DeepLearning/kcar_data/현대/벨로스터/벨로스터(JS)\\car_0_4641.jpg\n",
      "/현대/벨로스터/벨로스터(JS)  :  D:/DeepLearning/kcar_data/현대/벨로스터/벨로스터(JS)\\car_0_6510.jpg\n",
      "/현대/벨로스터/벨로스터(JS)  파일 길이 :  1501\n",
      "/현대/소나타/LF 소나타  :  D:/DeepLearning/kcar_data/현대/소나타/LF 소나타\\car_0_1008.jpg\n",
      "/현대/소나타/LF 소나타  :  D:/DeepLearning/kcar_data/현대/소나타/LF 소나타\\car_0_460.jpg\n",
      "/현대/소나타/LF 소나타  :  D:/DeepLearning/kcar_data/현대/소나타/LF 소나타\\car_0_8298.jpg\n",
      "/현대/소나타/LF 소나타  :  D:/DeepLearning/kcar_data/현대/소나타/LF 소나타\\현대_소나타 LF_2015_15시대_H165_V0.JPG\n",
      "/현대/소나타/LF 소나타  파일 길이 :  1501\n",
      "/현대/소나타/LF 소나타 하이브리드  :  D:/DeepLearning/kcar_data/현대/소나타/LF 소나타 하이브리드\\car_0_1.jpg\n",
      "/현대/소나타/LF 소나타 하이브리드  :  D:/DeepLearning/kcar_data/현대/소나타/LF 소나타 하이브리드\\car_0_2832.jpg\n",
      "/현대/소나타/LF 소나타 하이브리드  :  D:/DeepLearning/kcar_data/현대/소나타/LF 소나타 하이브리드\\car_0_47.jpg\n",
      "/현대/소나타/LF 소나타 하이브리드  :  D:/DeepLearning/kcar_data/현대/소나타/LF 소나타 하이브리드\\car_0_6530.jpg\n",
      "/현대/소나타/LF 소나타 하이브리드  파일 길이 :  1501\n",
      "/현대/소나타/NF 소나타  :  D:/DeepLearning/kcar_data/현대/소나타/NF 소나타\\car_0_1000.jpg\n",
      "/현대/소나타/NF 소나타  :  D:/DeepLearning/kcar_data/현대/소나타/NF 소나타\\car_0_2743.jpg\n",
      "/현대/소나타/NF 소나타  :  D:/DeepLearning/kcar_data/현대/소나타/NF 소나타\\car_0_4463.jpg\n",
      "/현대/소나타/NF 소나타  :  D:/DeepLearning/kcar_data/현대/소나타/NF 소나타\\car_0_6211.jpg\n",
      "/현대/소나타/NF 소나타  파일 길이 :  1501\n",
      "/현대/소나타/YF 소나타  :  D:/DeepLearning/kcar_data/현대/소나타/YF 소나타\\car_0_10.jpg\n",
      "/현대/소나타/YF 소나타  :  D:/DeepLearning/kcar_data/현대/소나타/YF 소나타\\car_0_2904.jpg\n",
      "/현대/소나타/YF 소나타  :  D:/DeepLearning/kcar_data/현대/소나타/YF 소나타\\car_0_4660.jpg\n",
      "/현대/소나타/YF 소나타  :  D:/DeepLearning/kcar_data/현대/소나타/YF 소나타\\car_0_6573.jpg\n",
      "/현대/소나타/YF 소나타  파일 길이 :  1501\n",
      "/현대/소나타/소나타 뉴 라이즈  :  D:/DeepLearning/kcar_data/현대/소나타/소나타 뉴 라이즈\\car_0_0.jpg\n",
      "/현대/소나타/소나타 뉴 라이즈  :  D:/DeepLearning/kcar_data/현대/소나타/소나타 뉴 라이즈\\car_0_2928.jpg\n",
      "/현대/소나타/소나타 뉴 라이즈  :  D:/DeepLearning/kcar_data/현대/소나타/소나타 뉴 라이즈\\car_0_4847.jpg\n",
      "/현대/소나타/소나타 뉴 라이즈  :  D:/DeepLearning/kcar_data/현대/소나타/소나타 뉴 라이즈\\car_0_6661.jpg\n",
      "/현대/소나타/소나타 뉴 라이즈  파일 길이 :  1501\n",
      "/현대/스타렉스/그랜드 스타렉스  :  D:/DeepLearning/kcar_data/현대/스타렉스/그랜드 스타렉스\\car_0_0.jpg\n",
      "/현대/스타렉스/그랜드 스타렉스  :  D:/DeepLearning/kcar_data/현대/스타렉스/그랜드 스타렉스\\car_0_2826.jpg\n",
      "/현대/스타렉스/그랜드 스타렉스  :  D:/DeepLearning/kcar_data/현대/스타렉스/그랜드 스타렉스\\car_0_4711.jpg\n",
      "/현대/스타렉스/그랜드 스타렉스  :  D:/DeepLearning/kcar_data/현대/스타렉스/그랜드 스타렉스\\car_0_6487.jpg\n",
      "/현대/스타렉스/그랜드 스타렉스  파일 길이 :  1501\n",
      "/현대/스타렉스/더뉴그랜드스타렉스  :  D:/DeepLearning/kcar_data/현대/스타렉스/더뉴그랜드스타렉스\\car_0_1.jpg\n",
      "/현대/스타렉스/더뉴그랜드스타렉스  :  D:/DeepLearning/kcar_data/현대/스타렉스/더뉴그랜드스타렉스\\car_0_2723.jpg\n",
      "/현대/스타렉스/더뉴그랜드스타렉스  :  D:/DeepLearning/kcar_data/현대/스타렉스/더뉴그랜드스타렉스\\car_0_4420.jpg\n",
      "/현대/스타렉스/더뉴그랜드스타렉스  :  D:/DeepLearning/kcar_data/현대/스타렉스/더뉴그랜드스타렉스\\car_0_607.jpg\n",
      "/현대/스타렉스/더뉴그랜드스타렉스  파일 길이 :  1501\n",
      "/현대/싼타페/싼타페 DM  :  D:/DeepLearning/kcar_data/현대/싼타페/싼타페 DM\\car_0_100.jpg\n",
      "/현대/싼타페/싼타페 DM  :  D:/DeepLearning/kcar_data/현대/싼타페/싼타페 DM\\car_0_2913.jpg\n",
      "/현대/싼타페/싼타페 DM  :  D:/DeepLearning/kcar_data/현대/싼타페/싼타페 DM\\car_0_4691.jpg\n",
      "/현대/싼타페/싼타페 DM  :  D:/DeepLearning/kcar_data/현대/싼타페/싼타페 DM\\car_0_6490.jpg\n",
      "/현대/싼타페/싼타페 DM  파일 길이 :  1501\n",
      "/현대/싼타페/싼타페 TM  :  D:/DeepLearning/kcar_data/현대/싼타페/싼타페 TM\\car_0_1001.jpg\n",
      "/현대/싼타페/싼타페 TM  :  D:/DeepLearning/kcar_data/현대/싼타페/싼타페 TM\\car_0_2933.jpg\n",
      "/현대/싼타페/싼타페 TM  :  D:/DeepLearning/kcar_data/현대/싼타페/싼타페 TM\\car_0_4797.jpg\n",
      "/현대/싼타페/싼타페 TM  :  D:/DeepLearning/kcar_data/현대/싼타페/싼타페 TM\\car_0_6498.jpg\n",
      "/현대/싼타페/싼타페 TM  파일 길이 :  1501\n",
      "/현대/아반떼/더뉴아반떼AD  :  D:/DeepLearning/kcar_data/현대/아반떼/더뉴아반떼AD\\car_0_1004.jpg\n",
      "/현대/아반떼/더뉴아반떼AD  :  D:/DeepLearning/kcar_data/현대/아반떼/더뉴아반떼AD\\car_0_2896.jpg\n",
      "/현대/아반떼/더뉴아반떼AD  :  D:/DeepLearning/kcar_data/현대/아반떼/더뉴아반떼AD\\car_0_4814.jpg\n",
      "/현대/아반떼/더뉴아반떼AD  :  D:/DeepLearning/kcar_data/현대/아반떼/더뉴아반떼AD\\car_0_6536.jpg\n",
      "/현대/아반떼/더뉴아반떼AD  파일 길이 :  1501\n",
      "/현대/아반떼/아반떼AD  :  D:/DeepLearning/kcar_data/현대/아반떼/아반떼AD\\000001.JPG\n",
      "/현대/아반떼/아반떼AD  :  D:/DeepLearning/kcar_data/현대/아반떼/아반떼AD\\car_0_2451.jpg\n",
      "/현대/아반떼/아반떼AD  :  D:/DeepLearning/kcar_data/현대/아반떼/아반떼AD\\car_0_4285.jpg\n",
      "/현대/아반떼/아반떼AD  :  D:/DeepLearning/kcar_data/현대/아반떼/아반떼AD\\car_0_6160.jpg\n",
      "/현대/아반떼/아반떼AD  파일 길이 :  1501\n",
      "/현대/아반떼/아반떼MD  :  D:/DeepLearning/kcar_data/현대/아반떼/아반떼MD\\car_0_100.jpg\n",
      "/현대/아반떼/아반떼MD  :  D:/DeepLearning/kcar_data/현대/아반떼/아반떼MD\\car_0_2720.jpg\n",
      "/현대/아반떼/아반떼MD  :  D:/DeepLearning/kcar_data/현대/아반떼/아반떼MD\\car_0_4602.jpg\n",
      "/현대/아반떼/아반떼MD  :  D:/DeepLearning/kcar_data/현대/아반떼/아반떼MD\\car_0_646.jpg\n",
      "/현대/아반떼/아반떼MD  파일 길이 :  1501\n",
      "/현대/아반떼/아반떼XD  :  D:/DeepLearning/kcar_data/현대/아반떼/아반떼XD\\car_0_100.jpg\n",
      "/현대/아반떼/아반떼XD  :  D:/DeepLearning/kcar_data/현대/아반떼/아반떼XD\\car_0_2832.jpg\n",
      "/현대/아반떼/아반떼XD  :  D:/DeepLearning/kcar_data/현대/아반떼/아반떼XD\\car_0_4562.jpg\n",
      "/현대/아반떼/아반떼XD  :  D:/DeepLearning/kcar_data/현대/아반떼/아반떼XD\\car_0_6425.jpg\n",
      "/현대/아반떼/아반떼XD  파일 길이 :  1501\n",
      "/현대/아이오닉/아이오닉 electric  :  D:/DeepLearning/kcar_data/현대/아이오닉/아이오닉 electric\\car_0_1.jpg\n",
      "/현대/아이오닉/아이오닉 electric  :  D:/DeepLearning/kcar_data/현대/아이오닉/아이오닉 electric\\car_0_2759.jpg\n",
      "/현대/아이오닉/아이오닉 electric  :  D:/DeepLearning/kcar_data/현대/아이오닉/아이오닉 electric\\car_0_4581.jpg\n",
      "/현대/아이오닉/아이오닉 electric  :  D:/DeepLearning/kcar_data/현대/아이오닉/아이오닉 electric\\car_0_6389.jpg\n",
      "/현대/아이오닉/아이오닉 electric  파일 길이 :  1501\n",
      "/현대/아이오닉/아이오닉 hybrid  :  D:/DeepLearning/kcar_data/현대/아이오닉/아이오닉 hybrid\\car_0_1004.jpg\n",
      "/현대/아이오닉/아이오닉 hybrid  :  D:/DeepLearning/kcar_data/현대/아이오닉/아이오닉 hybrid\\car_0_2815.jpg\n",
      "/현대/아이오닉/아이오닉 hybrid  :  D:/DeepLearning/kcar_data/현대/아이오닉/아이오닉 hybrid\\car_0_4500.jpg\n",
      "/현대/아이오닉/아이오닉 hybrid  :  D:/DeepLearning/kcar_data/현대/아이오닉/아이오닉 hybrid\\car_0_6402.jpg\n",
      "/현대/아이오닉/아이오닉 hybrid  파일 길이 :  1501\n",
      "/현대/에쿠스/에쿠스(신형)  :  D:/DeepLearning/kcar_data/현대/에쿠스/에쿠스(신형)\\car_0_1.jpg\n",
      "/현대/에쿠스/에쿠스(신형)  :  D:/DeepLearning/kcar_data/현대/에쿠스/에쿠스(신형)\\car_0_2694.jpg\n",
      "/현대/에쿠스/에쿠스(신형)  :  D:/DeepLearning/kcar_data/현대/에쿠스/에쿠스(신형)\\car_0_4567.jpg\n",
      "/현대/에쿠스/에쿠스(신형)  :  D:/DeepLearning/kcar_data/현대/에쿠스/에쿠스(신형)\\car_0_6345.jpg\n",
      "/현대/에쿠스/에쿠스(신형)  파일 길이 :  1501\n",
      "/현대/엑센트/엑센트 (신형)  :  D:/DeepLearning/kcar_data/현대/엑센트/엑센트 (신형)\\car_0_1007.jpg\n",
      "/현대/엑센트/엑센트 (신형)  :  D:/DeepLearning/kcar_data/현대/엑센트/엑센트 (신형)\\car_0_2803.jpg\n",
      "/현대/엑센트/엑센트 (신형)  :  D:/DeepLearning/kcar_data/현대/엑센트/엑센트 (신형)\\car_0_4561.jpg\n",
      "/현대/엑센트/엑센트 (신형)  :  D:/DeepLearning/kcar_data/현대/엑센트/엑센트 (신형)\\car_0_6266.jpg\n",
      "/현대/엑센트/엑센트 (신형)  파일 길이 :  1501\n",
      "/현대/코나/코나  :  D:/DeepLearning/kcar_data/현대/코나/코나\\car_0_1.jpg\n",
      "/현대/코나/코나  :  D:/DeepLearning/kcar_data/현대/코나/코나\\car_0_2998.jpg\n",
      "/현대/코나/코나  :  D:/DeepLearning/kcar_data/현대/코나/코나\\car_0_4999.jpg\n",
      "/현대/코나/코나  :  D:/DeepLearning/kcar_data/현대/코나/코나\\car_0_6796.jpg\n",
      "/현대/코나/코나  파일 길이 :  1501\n",
      "/현대/투싼/올 뉴 투싼  :  D:/DeepLearning/kcar_data/현대/투싼/올 뉴 투싼\\car_0_10.jpg\n",
      "/현대/투싼/올 뉴 투싼  :  D:/DeepLearning/kcar_data/현대/투싼/올 뉴 투싼\\car_0_333.jpg\n",
      "/현대/투싼/올 뉴 투싼  :  D:/DeepLearning/kcar_data/현대/투싼/올 뉴 투싼\\car_0_5616.jpg\n",
      "/현대/투싼/올 뉴 투싼  :  D:/DeepLearning/kcar_data/현대/투싼/올 뉴 투싼\\car_0_8100.jpg\n",
      "/현대/투싼/올 뉴 투싼  파일 길이 :  1501\n",
      "/현대/투싼/투싼  :  D:/DeepLearning/kcar_data/현대/투싼/투싼\\car_0_100.jpg\n",
      "/현대/투싼/투싼  :  D:/DeepLearning/kcar_data/현대/투싼/투싼\\car_0_2919.jpg\n",
      "/현대/투싼/투싼  :  D:/DeepLearning/kcar_data/현대/투싼/투싼\\car_0_4763.jpg\n",
      "/현대/투싼/투싼  :  D:/DeepLearning/kcar_data/현대/투싼/투싼\\car_0_6473.jpg\n",
      "/현대/투싼/투싼  파일 길이 :  1501\n",
      "/현대/투싼/투싼 ix  :  D:/DeepLearning/kcar_data/현대/투싼/투싼 ix\\car_0_1000.jpg\n",
      "/현대/투싼/투싼 ix  :  D:/DeepLearning/kcar_data/현대/투싼/투싼 ix\\car_0_2903.jpg\n",
      "/현대/투싼/투싼 ix  :  D:/DeepLearning/kcar_data/현대/투싼/투싼 ix\\car_0_4682.jpg\n",
      "/현대/투싼/투싼 ix  :  D:/DeepLearning/kcar_data/현대/투싼/투싼 ix\\car_0_6433.jpg\n",
      "/현대/투싼/투싼 ix  파일 길이 :  1501\n",
      "/현대/팰리세이드/팰리세이드  :  D:/DeepLearning/kcar_data/현대/팰리세이드/팰리세이드\\car_0_0.jpg\n",
      "/현대/팰리세이드/팰리세이드  :  D:/DeepLearning/kcar_data/현대/팰리세이드/팰리세이드\\car_0_2705.jpg\n",
      "/현대/팰리세이드/팰리세이드  :  D:/DeepLearning/kcar_data/현대/팰리세이드/팰리세이드\\car_0_4600.jpg\n",
      "/현대/팰리세이드/팰리세이드  :  D:/DeepLearning/kcar_data/현대/팰리세이드/팰리세이드\\car_0_629.jpg\n",
      "/현대/팰리세이드/팰리세이드  파일 길이 :  1501\n"
     ]
    },
    {
     "ename": "MemoryError",
     "evalue": "",
     "output_type": "error",
     "traceback": [
      "\u001b[1;31m---------------------------------------------------------------------------\u001b[0m",
      "\u001b[1;31mMemoryError\u001b[0m                               Traceback (most recent call last)",
      "\u001b[1;32m<ipython-input-17-fb1e76138b67>\u001b[0m in \u001b[0;36m<module>\u001b[1;34m\u001b[0m\n\u001b[0;32m     45\u001b[0m \u001b[0mX_train\u001b[0m\u001b[1;33m,\u001b[0m \u001b[0mX_test\u001b[0m\u001b[1;33m,\u001b[0m \u001b[0my_train\u001b[0m\u001b[1;33m,\u001b[0m \u001b[0my_test\u001b[0m \u001b[1;33m=\u001b[0m \u001b[0mtrain_test_split\u001b[0m\u001b[1;33m(\u001b[0m\u001b[0mX\u001b[0m\u001b[1;33m,\u001b[0m \u001b[0my\u001b[0m\u001b[1;33m)\u001b[0m\u001b[1;33m\u001b[0m\u001b[1;33m\u001b[0m\u001b[0m\n\u001b[0;32m     46\u001b[0m \u001b[0mxy\u001b[0m \u001b[1;33m=\u001b[0m \u001b[1;33m(\u001b[0m\u001b[0mX_train\u001b[0m\u001b[1;33m,\u001b[0m \u001b[0mX_test\u001b[0m\u001b[1;33m,\u001b[0m \u001b[0my_train\u001b[0m\u001b[1;33m,\u001b[0m \u001b[0my_test\u001b[0m\u001b[1;33m)\u001b[0m\u001b[1;33m\u001b[0m\u001b[1;33m\u001b[0m\u001b[0m\n\u001b[1;32m---> 47\u001b[1;33m \u001b[0mnp\u001b[0m\u001b[1;33m.\u001b[0m\u001b[0msave\u001b[0m\u001b[1;33m(\u001b[0m\u001b[1;34m\"keras_data.npy\"\u001b[0m\u001b[1;33m,\u001b[0m \u001b[0mxy\u001b[0m\u001b[1;33m)\u001b[0m\u001b[1;33m\u001b[0m\u001b[1;33m\u001b[0m\u001b[0m\n\u001b[0m\u001b[0;32m     48\u001b[0m \u001b[1;33m\u001b[0m\u001b[0m\n\u001b[0;32m     49\u001b[0m \u001b[1;33m\u001b[0m\u001b[0m\n",
      "\u001b[1;32m~\\Anaconda3\\lib\\site-packages\\numpy\\lib\\npyio.py\u001b[0m in \u001b[0;36msave\u001b[1;34m(file, arr, allow_pickle, fix_imports)\u001b[0m\n\u001b[0;32m    534\u001b[0m         \u001b[0marr\u001b[0m \u001b[1;33m=\u001b[0m \u001b[0mnp\u001b[0m\u001b[1;33m.\u001b[0m\u001b[0masanyarray\u001b[0m\u001b[1;33m(\u001b[0m\u001b[0marr\u001b[0m\u001b[1;33m)\u001b[0m\u001b[1;33m\u001b[0m\u001b[1;33m\u001b[0m\u001b[0m\n\u001b[0;32m    535\u001b[0m         format.write_array(fid, arr, allow_pickle=allow_pickle,\n\u001b[1;32m--> 536\u001b[1;33m                            pickle_kwargs=pickle_kwargs)\n\u001b[0m\u001b[0;32m    537\u001b[0m     \u001b[1;32mfinally\u001b[0m\u001b[1;33m:\u001b[0m\u001b[1;33m\u001b[0m\u001b[1;33m\u001b[0m\u001b[0m\n\u001b[0;32m    538\u001b[0m         \u001b[1;32mif\u001b[0m \u001b[0mown_fid\u001b[0m\u001b[1;33m:\u001b[0m\u001b[1;33m\u001b[0m\u001b[1;33m\u001b[0m\u001b[0m\n",
      "\u001b[1;32m~\\Anaconda3\\lib\\site-packages\\numpy\\lib\\format.py\u001b[0m in \u001b[0;36mwrite_array\u001b[1;34m(fp, array, version, allow_pickle, pickle_kwargs)\u001b[0m\n\u001b[0;32m    631\u001b[0m         \u001b[1;32mif\u001b[0m \u001b[0mpickle_kwargs\u001b[0m \u001b[1;32mis\u001b[0m \u001b[1;32mNone\u001b[0m\u001b[1;33m:\u001b[0m\u001b[1;33m\u001b[0m\u001b[1;33m\u001b[0m\u001b[0m\n\u001b[0;32m    632\u001b[0m             \u001b[0mpickle_kwargs\u001b[0m \u001b[1;33m=\u001b[0m \u001b[1;33m{\u001b[0m\u001b[1;33m}\u001b[0m\u001b[1;33m\u001b[0m\u001b[1;33m\u001b[0m\u001b[0m\n\u001b[1;32m--> 633\u001b[1;33m         \u001b[0mpickle\u001b[0m\u001b[1;33m.\u001b[0m\u001b[0mdump\u001b[0m\u001b[1;33m(\u001b[0m\u001b[0marray\u001b[0m\u001b[1;33m,\u001b[0m \u001b[0mfp\u001b[0m\u001b[1;33m,\u001b[0m \u001b[0mprotocol\u001b[0m\u001b[1;33m=\u001b[0m\u001b[1;36m2\u001b[0m\u001b[1;33m,\u001b[0m \u001b[1;33m**\u001b[0m\u001b[0mpickle_kwargs\u001b[0m\u001b[1;33m)\u001b[0m\u001b[1;33m\u001b[0m\u001b[1;33m\u001b[0m\u001b[0m\n\u001b[0m\u001b[0;32m    634\u001b[0m     \u001b[1;32melif\u001b[0m \u001b[0marray\u001b[0m\u001b[1;33m.\u001b[0m\u001b[0mflags\u001b[0m\u001b[1;33m.\u001b[0m\u001b[0mf_contiguous\u001b[0m \u001b[1;32mand\u001b[0m \u001b[1;32mnot\u001b[0m \u001b[0marray\u001b[0m\u001b[1;33m.\u001b[0m\u001b[0mflags\u001b[0m\u001b[1;33m.\u001b[0m\u001b[0mc_contiguous\u001b[0m\u001b[1;33m:\u001b[0m\u001b[1;33m\u001b[0m\u001b[1;33m\u001b[0m\u001b[0m\n\u001b[0;32m    635\u001b[0m         \u001b[1;32mif\u001b[0m \u001b[0misfileobj\u001b[0m\u001b[1;33m(\u001b[0m\u001b[0mfp\u001b[0m\u001b[1;33m)\u001b[0m\u001b[1;33m:\u001b[0m\u001b[1;33m\u001b[0m\u001b[1;33m\u001b[0m\u001b[0m\n",
      "\u001b[1;31mMemoryError\u001b[0m: "
     ]
    }
   ],
   "source": [
    "caltech_dir = \"D:/DeepLearning/kcar_data\"\n",
    "categories = Model_list\n",
    "nb_classes = len(categories)\n",
    "\n",
    "image_w = 64\n",
    "image_h = 64\n",
    "\n",
    "pixels = image_h * image_w * 3\n",
    "\n",
    "X = []\n",
    "y = []\n",
    "\n",
    "for idx, cat in enumerate(categories):\n",
    "    \n",
    "    #one-hot 돌리기.\n",
    "    label = [0 for i in range(nb_classes)]\n",
    "    label[idx] = 1\n",
    "\n",
    "    image_dir = caltech_dir + cat\n",
    "    files = glob.glob(image_dir+\"/*.jpg\")\n",
    "    \n",
    "    img_num = 0\n",
    "    for i, f in enumerate(files):\n",
    "        img = Image.open(f)\n",
    "        img = img.convert(\"RGB\")\n",
    "        img = img.resize((image_w, image_h))\n",
    "        \n",
    "        data = np.asarray(img) / 255\n",
    "\n",
    "        X.append(data)\n",
    "        y.append(label)\n",
    "\n",
    "        if i % 500 == 0:\n",
    "            print(cat, \" : \", f)\n",
    "            \n",
    "        img_num += 1\n",
    "        if i >= 1500: break\n",
    "    \n",
    "    print(cat, \" 파일 길이 : \", img_num)\n",
    "\n",
    "X = np.array(X)\n",
    "y = np.array(y)\n",
    "\n",
    "# train data와 test data로 나눠줍니다\n",
    "X_train, X_test, y_train, y_test = train_test_split(X, y)\n",
    "xy = (X_train, X_test, y_train, y_test)\n",
    "np.save(\"keras_data.npy\", xy)\n",
    "\n",
    "\n",
    "print(\"전체 이미지 갯수 : \", len(X))"
   ]
  },
  {
   "cell_type": "code",
   "execution_count": null,
   "metadata": {},
   "outputs": [],
   "source": []
  },
  {
   "cell_type": "markdown",
   "metadata": {},
   "source": [
    "## CNN 이미지 분류\n",
    "  - 자동차 모델 분류"
   ]
  },
  {
   "cell_type": "code",
   "execution_count": 43,
   "metadata": {},
   "outputs": [
    {
     "data": {
      "image/png": "[encoded data removed]",
      "text/plain": [
       "<PIL.PngImagePlugin.PngImageFile image mode=RGB size=772x344 at 0x2B50D65B7C8>"
      ]
     },
     "execution_count": 43,
     "metadata": {},
     "output_type": "execute_result"
    }
   ],
   "source": [
    "car_cnn = Image.open('C:/Users/1-11/Pictures/image_data/car_cnn.png')\n",
    "car_cnn"
   ]
  },
  {
   "cell_type": "code",
   "execution_count": 25,
   "metadata": {},
   "outputs": [
    {
     "name": "stderr",
     "output_type": "stream",
     "text": [
      "Using TensorFlow backend.\n"
     ]
    },
    {
     "name": "stdout",
     "output_type": "stream",
     "text": [
      "(41147, 64, 64, 3)\n",
      "41147\n"
     ]
    }
   ],
   "source": [
    "import os, glob, numpy as np\n",
    "from keras.models import Sequential\n",
    "from keras.layers import Conv2D, MaxPooling2D, Dense, Flatten, Dropout\n",
    "from keras.callbacks import EarlyStopping, ModelCheckpoint\n",
    "import matplotlib.pyplot as plt\n",
    "import keras.backend.tensorflow_backend as K\n",
    "\n",
    "import tensorflow as tf\n",
    "config = tf.ConfigProto()\n",
    "config.gpu_options.allow_growth = True\n",
    "session = tf.Session(config=config)\n",
    "\n",
    "print(X_train.shape)\n",
    "print(X_train.shape[0])"
   ]
  },
  {
   "cell_type": "code",
   "execution_count": 26,
   "metadata": {},
   "outputs": [],
   "source": [
    "categories = Model_list\n",
    "nb_classes = len(categories)\n",
    "\n",
    "#일반화\n",
    "X_train = X_train.astype(float) / 255\n",
    "X_test = X_test.astype(float) / 255"
   ]
  },
  {
   "cell_type": "markdown",
   "metadata": {},
   "source": [
    "### 모델 학습 가용 디바이스 탐색"
   ]
  },
  {
   "cell_type": "code",
   "execution_count": 27,
   "metadata": {},
   "outputs": [
    {
     "name": "stdout",
     "output_type": "stream",
     "text": [
      "[name: \"/device:CPU:0\"\n",
      "device_type: \"CPU\"\n",
      "memory_limit: 268435456\n",
      "locality {\n",
      "}\n",
      "incarnation: 4708409035196415315\n",
      "]\n"
     ]
    }
   ],
   "source": [
    "from tensorflow.python.client import device_lib\n",
    "print(device_lib.list_local_devices())"
   ]
  },
  {
   "cell_type": "markdown",
   "metadata": {},
   "source": [
    "### 기본 이미지 데이터 모델 학습\n",
    "\n",
    "   - 첫번째 인자 : 컨볼루션 필터의 수 입니다.\n",
    "   - 두번째 인자 : 컨볼루션 커널의 (행, 열) 입니다.\n",
    "   - padding : 경계 처리 방법을 정의합니다.\n",
    "        ‘valid’ : 유효한 영역만 출력이 됩니다. 따라서 출력 이미지 사이즈는 입력 사이즈보다 작습니다.\n",
    "        ‘same’ : 출력 이미지 사이즈가 입력 이미지 사이즈와 동일합니다.\n",
    "   - input_shape : 샘플 수를 제외한 입력 형태를 정의 합니다. 모델에서 첫 레이어일 때만 정의하면 됩니다.\n",
    "       (행, 열, 채널 수)로 정의합니다. 흑백영상인 경우에는 채널이 1이고, 컬러(RGB)영상인 경우에는 채널을 3으로 설정합니다.\n",
    "   - activation : 활성화 함수 설정합니다.\n",
    "        ‘linear’ : 디폴트 값, 입력뉴런과 가중치로 계산된 결과값이 그대로 출력으로 나옵니다.\n",
    "        ‘relu’ : rectifier 함수, 은익층에 주로 쓰입니다.\n",
    "        ‘sigmoid’ : 시그모이드 함수, 이진 분류 문제에서 출력층에 주로 쓰입니다.\n",
    "        ‘softmax’ : 소프트맥스 함수, 다중 클래스 분류 문제에서 출력층에 주로 쓰입니다."
   ]
  },
  {
   "cell_type": "code",
   "execution_count": 28,
   "metadata": {},
   "outputs": [
    {
     "name": "stdout",
     "output_type": "stream",
     "text": [
      "WARNING:tensorflow:From C:\\Users\\1-11\\Anaconda3\\lib\\site-packages\\keras\\backend\\tensorflow_backend.py:74: The name tf.get_default_graph is deprecated. Please use tf.compat.v1.get_default_graph instead.\n",
      "\n",
      "WARNING:tensorflow:From C:\\Users\\1-11\\Anaconda3\\lib\\site-packages\\keras\\backend\\tensorflow_backend.py:517: The name tf.placeholder is deprecated. Please use tf.compat.v1.placeholder instead.\n",
      "\n",
      "WARNING:tensorflow:From C:\\Users\\1-11\\Anaconda3\\lib\\site-packages\\keras\\backend\\tensorflow_backend.py:4138: The name tf.random_uniform is deprecated. Please use tf.random.uniform instead.\n",
      "\n",
      "WARNING:tensorflow:From C:\\Users\\1-11\\Anaconda3\\lib\\site-packages\\keras\\backend\\tensorflow_backend.py:3976: The name tf.nn.max_pool is deprecated. Please use tf.nn.max_pool2d instead.\n",
      "\n",
      "WARNING:tensorflow:From C:\\Users\\1-11\\Anaconda3\\lib\\site-packages\\keras\\backend\\tensorflow_backend.py:133: The name tf.placeholder_with_default is deprecated. Please use tf.compat.v1.placeholder_with_default instead.\n",
      "\n",
      "WARNING:tensorflow:From C:\\Users\\1-11\\Anaconda3\\lib\\site-packages\\keras\\backend\\tensorflow_backend.py:3445: calling dropout (from tensorflow.python.ops.nn_ops) with keep_prob is deprecated and will be removed in a future version.\n",
      "Instructions for updating:\n",
      "Please use `rate` instead of `keep_prob`. Rate should be set to `rate = 1 - keep_prob`.\n",
      "WARNING:tensorflow:From C:\\Users\\1-11\\Anaconda3\\lib\\site-packages\\keras\\optimizers.py:790: The name tf.train.Optimizer is deprecated. Please use tf.compat.v1.train.Optimizer instead.\n",
      "\n",
      "WARNING:tensorflow:From C:\\Users\\1-11\\Anaconda3\\lib\\site-packages\\keras\\backend\\tensorflow_backend.py:3295: The name tf.log is deprecated. Please use tf.math.log instead.\n",
      "\n"
     ]
    }
   ],
   "source": [
    "with K.tf_ops.device('/device:CPU:0'):\n",
    "    model = Sequential()\n",
    "    model.add(Conv2D(32, (3,3), padding=\"same\", input_shape=X_train.shape[1:], activation='relu'))\n",
    "    model.add(MaxPooling2D(pool_size=(2,2)))\n",
    "    model.add(Dropout(0.25))\n",
    "    \n",
    "    model.add(Conv2D(64, (3,3), padding=\"same\", activation='relu'))\n",
    "    model.add(MaxPooling2D(pool_size=(2,2)))\n",
    "    model.add(Dropout(0.25))\n",
    "    \n",
    "    model.add(Flatten())\n",
    "    model.add(Dense(256, activation='relu'))\n",
    "    model.add(Dropout(0.5))\n",
    "    model.add(Dense(nb_classes, activation='softmax'))\n",
    "    model.compile(loss='categorical_crossentropy', optimizer='adam', metrics=['accuracy'])\n",
    "    model_dir = './model'\n",
    "    \n",
    "    if not os.path.exists(model_dir):\n",
    "        os.mkdir(model_dir)\n",
    "    \n",
    "    model_path = model_dir + '/multi_img_classification.model'\n",
    "    checkpoint = ModelCheckpoint(filepath=model_path , monitor='val_loss', verbose=1, save_best_only=True)\n",
    "    early_stopping = EarlyStopping(monitor='val_loss', patience=6)"
   ]
  },
  {
   "cell_type": "code",
   "execution_count": 29,
   "metadata": {},
   "outputs": [
    {
     "name": "stdout",
     "output_type": "stream",
     "text": [
      "_________________________________________________________________\n",
      "Layer (type)                 Output Shape              Param #   \n",
      "=================================================================\n",
      "conv2d_1 (Conv2D)            (None, 64, 64, 32)        896       \n",
      "_________________________________________________________________\n",
      "max_pooling2d_1 (MaxPooling2 (None, 32, 32, 32)        0         \n",
      "_________________________________________________________________\n",
      "dropout_1 (Dropout)          (None, 32, 32, 32)        0         \n",
      "_________________________________________________________________\n",
      "conv2d_2 (Conv2D)            (None, 32, 32, 64)        18496     \n",
      "_________________________________________________________________\n",
      "max_pooling2d_2 (MaxPooling2 (None, 16, 16, 64)        0         \n",
      "_________________________________________________________________\n",
      "dropout_2 (Dropout)          (None, 16, 16, 64)        0         \n",
      "_________________________________________________________________\n",
      "flatten_1 (Flatten)          (None, 16384)             0         \n",
      "_________________________________________________________________\n",
      "dense_1 (Dense)              (None, 256)               4194560   \n",
      "_________________________________________________________________\n",
      "dropout_3 (Dropout)          (None, 256)               0         \n",
      "_________________________________________________________________\n",
      "dense_2 (Dense)              (None, 74)                19018     \n",
      "=================================================================\n",
      "Total params: 4,232,970\n",
      "Trainable params: 4,232,970\n",
      "Non-trainable params: 0\n",
      "_________________________________________________________________\n"
     ]
    }
   ],
   "source": [
    "model.summary()"
   ]
  },
  {
   "cell_type": "code",
   "execution_count": 30,
   "metadata": {
    "scrolled": true
   },
   "outputs": [
    {
     "name": "stdout",
     "output_type": "stream",
     "text": [
      "WARNING:tensorflow:From C:\\Users\\1-11\\Anaconda3\\lib\\site-packages\\tensorflow_core\\python\\ops\\math_grad.py:1424: where (from tensorflow.python.ops.array_ops) is deprecated and will be removed in a future version.\n",
      "Instructions for updating:\n",
      "Use tf.where in 2.0, which has the same broadcast rule as np.where\n",
      "WARNING:tensorflow:From C:\\Users\\1-11\\Anaconda3\\lib\\site-packages\\keras\\backend\\tensorflow_backend.py:986: The name tf.assign_add is deprecated. Please use tf.compat.v1.assign_add instead.\n",
      "\n",
      "WARNING:tensorflow:From C:\\Users\\1-11\\Anaconda3\\lib\\site-packages\\keras\\backend\\tensorflow_backend.py:973: The name tf.assign is deprecated. Please use tf.compat.v1.assign instead.\n",
      "\n",
      "Train on 32917 samples, validate on 8230 samples\n",
      "Epoch 1/50\n",
      "WARNING:tensorflow:From C:\\Users\\1-11\\Anaconda3\\lib\\site-packages\\keras\\backend\\tensorflow_backend.py:174: The name tf.get_default_session is deprecated. Please use tf.compat.v1.get_default_session instead.\n",
      "\n",
      "WARNING:tensorflow:From C:\\Users\\1-11\\Anaconda3\\lib\\site-packages\\keras\\backend\\tensorflow_backend.py:190: The name tf.global_variables is deprecated. Please use tf.compat.v1.global_variables instead.\n",
      "\n",
      "WARNING:tensorflow:From C:\\Users\\1-11\\Anaconda3\\lib\\site-packages\\keras\\backend\\tensorflow_backend.py:199: The name tf.is_variable_initialized is deprecated. Please use tf.compat.v1.is_variable_initialized instead.\n",
      "\n",
      "WARNING:tensorflow:From C:\\Users\\1-11\\Anaconda3\\lib\\site-packages\\keras\\backend\\tensorflow_backend.py:206: The name tf.variables_initializer is deprecated. Please use tf.compat.v1.variables_initializer instead.\n",
      "\n",
      "32917/32917 [==============================] - 112s 3ms/step - loss: 3.8811 - acc: 0.0624 - val_loss: 3.3374 - val_acc: 0.1264\n",
      "\n",
      "Epoch 00001: val_loss improved from inf to 3.33737, saving model to ./model/multi_img_classification.model\n",
      "Epoch 2/50\n",
      "32917/32917 [==============================] - 111s 3ms/step - loss: 3.3079 - acc: 0.1242 - val_loss: 2.9781 - val_acc: 0.2109\n",
      "\n",
      "Epoch 00002: val_loss improved from 3.33737 to 2.97809, saving model to ./model/multi_img_classification.model\n",
      "Epoch 3/50\n",
      "32917/32917 [==============================] - 111s 3ms/step - loss: 3.0291 - acc: 0.1683 - val_loss: 2.6639 - val_acc: 0.2646\n",
      "\n",
      "Epoch 00003: val_loss improved from 2.97809 to 2.66393, saving model to ./model/multi_img_classification.model\n",
      "Epoch 4/50\n",
      "32917/32917 [==============================] - 110s 3ms/step - loss: 2.8035 - acc: 0.2067 - val_loss: 2.4507 - val_acc: 0.3098\n",
      "\n",
      "Epoch 00004: val_loss improved from 2.66393 to 2.45072, saving model to ./model/multi_img_classification.model\n",
      "Epoch 5/50\n",
      "32917/32917 [==============================] - 111s 3ms/step - loss: 2.6291 - acc: 0.2441 - val_loss: 2.2772 - val_acc: 0.3495\n",
      "\n",
      "Epoch 00005: val_loss improved from 2.45072 to 2.27720, saving model to ./model/multi_img_classification.model\n",
      "Epoch 6/50\n",
      "32917/32917 [==============================] - 113s 3ms/step - loss: 2.4995 - acc: 0.2737 - val_loss: 2.1899 - val_acc: 0.3875\n",
      "\n",
      "Epoch 00006: val_loss improved from 2.27720 to 2.18986, saving model to ./model/multi_img_classification.model\n",
      "Epoch 7/50\n",
      "32917/32917 [==============================] - 113s 3ms/step - loss: 2.3756 - acc: 0.2985 - val_loss: 2.0901 - val_acc: 0.3955: 3s - loss: 2.372 - ETA: 2s - loss\n",
      "\n",
      "Epoch 00007: val_loss improved from 2.18986 to 2.09007, saving model to ./model/multi_img_classification.model\n",
      "Epoch 8/50\n",
      "32917/32917 [==============================] - 111s 3ms/step - loss: 2.2718 - acc: 0.3228 - val_loss: 1.9754 - val_acc: 0.4281\n",
      "\n",
      "Epoch 00008: val_loss improved from 2.09007 to 1.97544, saving model to ./model/multi_img_classification.model\n",
      "Epoch 9/50\n",
      "32917/32917 [==============================] - 109s 3ms/step - loss: 2.1837 - acc: 0.3420 - val_loss: 1.9086 - val_acc: 0.4453\n",
      "\n",
      "Epoch 00009: val_loss improved from 1.97544 to 1.90862, saving model to ./model/multi_img_classification.model\n",
      "Epoch 10/50\n",
      "32917/32917 [==============================] - 110s 3ms/step - loss: 2.1065 - acc: 0.3600 - val_loss: 1.8723 - val_acc: 0.4554\n",
      "\n",
      "Epoch 00010: val_loss improved from 1.90862 to 1.87229, saving model to ./model/multi_img_classification.model\n",
      "Epoch 11/50\n",
      "32917/32917 [==============================] - 112s 3ms/step - loss: 2.0492 - acc: 0.3779 - val_loss: 1.7898 - val_acc: 0.4679\n",
      "\n",
      "Epoch 00011: val_loss improved from 1.87229 to 1.78976, saving model to ./model/multi_img_classification.model\n",
      "Epoch 12/50\n",
      "32917/32917 [==============================] - 113s 3ms/step - loss: 1.9836 - acc: 0.3945 - val_loss: 1.7480 - val_acc: 0.4910\n",
      "\n",
      "Epoch 00012: val_loss improved from 1.78976 to 1.74801, saving model to ./model/multi_img_classification.model\n",
      "Epoch 13/50\n",
      "32917/32917 [==============================] - 115s 3ms/step - loss: 1.9320 - acc: 0.4057 - val_loss: 1.7039 - val_acc: 0.4955\n",
      "\n",
      "Epoch 00013: val_loss improved from 1.74801 to 1.70394, saving model to ./model/multi_img_classification.model\n",
      "Epoch 14/50\n",
      "32917/32917 [==============================] - 112s 3ms/step - loss: 1.8792 - acc: 0.4212 - val_loss: 1.6883 - val_acc: 0.5011\n",
      "\n",
      "Epoch 00014: val_loss improved from 1.70394 to 1.68833, saving model to ./model/multi_img_classification.model\n",
      "Epoch 15/50\n",
      "32917/32917 [==============================] - 116s 4ms/step - loss: 1.8297 - acc: 0.4337 - val_loss: 1.6753 - val_acc: 0.5017\n",
      "\n",
      "Epoch 00015: val_loss improved from 1.68833 to 1.67533, saving model to ./model/multi_img_classification.model\n",
      "Epoch 16/50\n",
      "32917/32917 [==============================] - 115s 4ms/step - loss: 1.7797 - acc: 0.4477 - val_loss: 1.5769 - val_acc: 0.5296\n",
      "\n",
      "Epoch 00016: val_loss improved from 1.67533 to 1.57688, saving model to ./model/multi_img_classification.model\n",
      "Epoch 17/50\n",
      "32917/32917 [==============================] - 114s 3ms/step - loss: 1.7479 - acc: 0.4581 - val_loss: 1.5820 - val_acc: 0.5228\n",
      "\n",
      "Epoch 00017: val_loss did not improve from 1.57688\n",
      "Epoch 18/50\n",
      "32917/32917 [==============================] - 111s 3ms/step - loss: 1.7222 - acc: 0.4597 - val_loss: 1.5718 - val_acc: 0.5252\n",
      "\n",
      "Epoch 00018: val_loss improved from 1.57688 to 1.57177, saving model to ./model/multi_img_classification.model\n",
      "Epoch 19/50\n",
      "32917/32917 [==============================] - 110s 3ms/step - loss: 1.6706 - acc: 0.4784 - val_loss: 1.5657 - val_acc: 0.5253: 0s - loss: 1.6695 - a\n",
      "\n",
      "Epoch 00019: val_loss improved from 1.57177 to 1.56571, saving model to ./model/multi_img_classification.model\n",
      "Epoch 20/50\n",
      "32917/32917 [==============================] - 111s 3ms/step - loss: 1.6413 - acc: 0.4848 - val_loss: 1.5569 - val_acc: 0.5294\n",
      "\n",
      "Epoch 00020: val_loss improved from 1.56571 to 1.55692, saving model to ./model/multi_img_classification.model\n",
      "Epoch 21/50\n",
      "32917/32917 [==============================] - 111s 3ms/step - loss: 1.6187 - acc: 0.4944 - val_loss: 1.4904 - val_acc: 0.5457\n",
      "\n",
      "Epoch 00021: val_loss improved from 1.55692 to 1.49039, saving model to ./model/multi_img_classification.model\n",
      "Epoch 22/50\n",
      "32917/32917 [==============================] - 111s 3ms/step - loss: 1.5890 - acc: 0.4998 - val_loss: 1.5334 - val_acc: 0.5374\n",
      "\n",
      "Epoch 00022: val_loss did not improve from 1.49039\n",
      "Epoch 23/50\n",
      "32917/32917 [==============================] - 108s 3ms/step - loss: 1.5676 - acc: 0.5071 - val_loss: 1.4982 - val_acc: 0.5504\n",
      "\n",
      "Epoch 00023: val_loss did not improve from 1.49039\n",
      "Epoch 24/50\n",
      "32917/32917 [==============================] - 108s 3ms/step - loss: 1.5194 - acc: 0.5203 - val_loss: 1.4989 - val_acc: 0.5482\n",
      "\n",
      "Epoch 00024: val_loss did not improve from 1.49039\n",
      "Epoch 25/50\n",
      "32917/32917 [==============================] - 109s 3ms/step - loss: 1.5153 - acc: 0.5200 - val_loss: 1.5065 - val_acc: 0.5405\n",
      "\n",
      "Epoch 00025: val_loss did not improve from 1.49039\n",
      "Epoch 26/50\n",
      "32917/32917 [==============================] - 108s 3ms/step - loss: 1.4860 - acc: 0.5321 - val_loss: 1.5131 - val_acc: 0.5480\n",
      "\n",
      "Epoch 00026: val_loss did not improve from 1.49039\n",
      "Epoch 27/50\n",
      "32917/32917 [==============================] - 109s 3ms/step - loss: 1.4669 - acc: 0.5374 - val_loss: 1.4909 - val_acc: 0.5516\n",
      "\n",
      "Epoch 00027: val_loss did not improve from 1.49039\n"
     ]
    }
   ],
   "source": [
    "history = model.fit(X_train, y_train, batch_size=32, epochs=50, validation_split=0.2, callbacks=[checkpoint, early_stopping])"
   ]
  },
  {
   "cell_type": "markdown",
   "metadata": {},
   "source": [
    "- 50번의 epochs를 주고 early_stopping 을 6번으로 제한을 두었을 때 22번째부터 val_loss가 더이상 증가하지 않았습니다"
   ]
  },
  {
   "cell_type": "code",
   "execution_count": 31,
   "metadata": {},
   "outputs": [
    {
     "name": "stdout",
     "output_type": "stream",
     "text": [
      "13716/13716 [==============================] - 9s 664us/step\n",
      "정확도 : 0.5459\n"
     ]
    }
   ],
   "source": [
    "print(\"정확도 : %.4f\" % (model.evaluate(X_test, y_test)[1]))"
   ]
  },
  {
   "cell_type": "code",
   "execution_count": 32,
   "metadata": {
    "scrolled": false
   },
   "outputs": [
    {
     "data": {
      "image/png": "[encoded data removed]",
      "text/plain": [
       "<Figure size 432x288 with 1 Axes>"
      ]
     },
     "metadata": {
      "needs_background": "light"
     },
     "output_type": "display_data"
    }
   ],
   "source": [
    "y_vloss = history.history['val_loss']\n",
    "y_loss = history.history['loss']\n",
    "\n",
    "x_len = np.arange(len(y_loss))\n",
    "\n",
    "plt.plot(x_len, y_vloss, marker='.', c='red', label='val_set_loss')\n",
    "plt.plot(x_len, y_loss, marker='.', c='blue', label='train_set_oss')\n",
    "plt.legend()\n",
    "plt.xlabel('epochs')\n",
    "plt.ylabel('loss')\n",
    "plt.grid()\n",
    "plt.show()"
   ]
  },
  {
   "cell_type": "code",
   "execution_count": null,
   "metadata": {},
   "outputs": [],
   "source": []
  },
  {
   "cell_type": "markdown",
   "metadata": {},
   "source": [
    "### 데이터 부풀리기 후 재 학습모델"
   ]
  },
  {
   "cell_type": "code",
   "execution_count": 101,
   "metadata": {
    "scrolled": true
   },
   "outputs": [
    {
     "name": "stdout",
     "output_type": "stream",
     "text": [
      "(166555, 64, 64, 3)\n",
      "166555\n"
     ]
    }
   ],
   "source": [
    "import os, glob, numpy as np\n",
    "from keras.models import Sequential\n",
    "from keras.layers import Conv2D, MaxPooling2D, Dense, Flatten, Dropout\n",
    "from keras.callbacks import EarlyStopping, ModelCheckpoint\n",
    "import matplotlib.pyplot as plt\n",
    "import keras.backend.tensorflow_backend as K\n",
    "\n",
    "import tensorflow as tf\n",
    "config = tf.ConfigProto()\n",
    "config.gpu_options.allow_growth = True\n",
    "session = tf.Session(config=config)\n",
    "\n",
    "X_train, X_test, y_train, y_test = np.load('keras_data.npy')\n",
    "print(X_train.shape)\n",
    "print(X_train.shape[0])"
   ]
  },
  {
   "cell_type": "code",
   "execution_count": 103,
   "metadata": {},
   "outputs": [],
   "source": [
    "with K.tf_ops.device('/device:GPU:0'):\n",
    "    model = Sequential()\n",
    "    model.add(Conv2D(32, (3,3), padding=\"same\", input_shape=X_train.shape[1:], activation='relu'))\n",
    "    model.add(MaxPooling2D(pool_size=(2,2)))\n",
    "    model.add(Dropout(0.25))\n",
    "    \n",
    "    model.add(Conv2D(64, (3,3), padding=\"same\", activation='relu'))\n",
    "    model.add(MaxPooling2D(pool_size=(2,2)))\n",
    "    model.add(Dropout(0.25))\n",
    "    \n",
    "    model.add(Flatten())\n",
    "    model.add(Dense(256, activation='relu'))\n",
    "    model.add(Dropout(0.5))\n",
    "    model.add(Dense(nb_classes, activation='softmax'))\n",
    "    model.compile(loss='categorical_crossentropy', optimizer='adam', metrics=['accuracy'])\n",
    "    model_dir = './model'\n",
    "    \n",
    "    if not os.path.exists(model_dir):\n",
    "        os.mkdir(model_dir)\n",
    "    \n",
    "    model_path = model_dir + '/multi_img_classification.model'\n",
    "    checkpoint = ModelCheckpoint(filepath=model_path , monitor='val_loss', verbose=1, save_best_only=True)\n",
    "    early_stopping = EarlyStopping(monitor='val_loss', patience=6)"
   ]
  },
  {
   "cell_type": "code",
   "execution_count": 104,
   "metadata": {},
   "outputs": [
    {
     "name": "stdout",
     "output_type": "stream",
     "text": [
      "_________________________________________________________________\n",
      "Layer (type)                 Output Shape              Param #   \n",
      "=================================================================\n",
      "conv2d_3 (Conv2D)            (None, 64, 64, 32)        896       \n",
      "_________________________________________________________________\n",
      "max_pooling2d_3 (MaxPooling2 (None, 32, 32, 32)        0         \n",
      "_________________________________________________________________\n",
      "dropout_4 (Dropout)          (None, 32, 32, 32)        0         \n",
      "_________________________________________________________________\n",
      "conv2d_4 (Conv2D)            (None, 32, 32, 64)        18496     \n",
      "_________________________________________________________________\n",
      "max_pooling2d_4 (MaxPooling2 (None, 16, 16, 64)        0         \n",
      "_________________________________________________________________\n",
      "dropout_5 (Dropout)          (None, 16, 16, 64)        0         \n",
      "_________________________________________________________________\n",
      "flatten_2 (Flatten)          (None, 16384)             0         \n",
      "_________________________________________________________________\n",
      "dense_3 (Dense)              (None, 256)               4194560   \n",
      "_________________________________________________________________\n",
      "dropout_6 (Dropout)          (None, 256)               0         \n",
      "_________________________________________________________________\n",
      "dense_4 (Dense)              (None, 74)                19018     \n",
      "=================================================================\n",
      "Total params: 4,232,970\n",
      "Trainable params: 4,232,970\n",
      "Non-trainable params: 0\n",
      "_________________________________________________________________\n"
     ]
    }
   ],
   "source": [
    "model.summary()"
   ]
  },
  {
   "cell_type": "code",
   "execution_count": null,
   "metadata": {
    "scrolled": true
   },
   "outputs": [
    {
     "name": "stdout",
     "output_type": "stream",
     "text": [
      "Train on 133244 samples, validate on 33311 samples\n",
      "Epoch 1/50\n",
      "133240/133244 [============================>.] - ETA: 0s - loss: 2.9416 - acc: 0.1862"
     ]
    }
   ],
   "source": [
    "history = model.fit(X_train, y_train, batch_size=32, epochs=50, validation_split=0.2, callbacks=[checkpoint, early_stopping])"
   ]
  },
  {
   "cell_type": "code",
   "execution_count": 67,
   "metadata": {},
   "outputs": [
    {
     "name": "stdout",
     "output_type": "stream",
     "text": [
      "16886/16886 [==============================] - 13s 770us/step\n",
      "정확도 : 0.5810\n"
     ]
    }
   ],
   "source": [
    "print(\"정확도 : %.4f\" % (model.evaluate(X_test, y_test)[1]))"
   ]
  },
  {
   "cell_type": "code",
   "execution_count": 68,
   "metadata": {
    "scrolled": false
   },
   "outputs": [
    {
     "data": {
      "image/png": "[encoded data removed]",
      "text/plain": [
       "<Figure size 432x288 with 1 Axes>"
      ]
     },
     "metadata": {
      "needs_background": "light"
     },
     "output_type": "display_data"
    }
   ],
   "source": [
    "y_vloss = history.history['val_loss']\n",
    "y_loss = history.history['loss']\n",
    "\n",
    "x_len = np.arange(len(y_loss))\n",
    "\n",
    "plt.plot(x_len, y_vloss, marker='.', c='red', label='val_set_loss')\n",
    "plt.plot(x_len, y_loss, marker='.', c='blue', label='train_set_oss')\n",
    "plt.legend()\n",
    "plt.xlabel('epochs')\n",
    "plt.ylabel('loss')\n",
    "plt.grid()\n",
    "plt.show()"
   ]
  },
  {
   "cell_type": "code",
   "execution_count": null,
   "metadata": {},
   "outputs": [],
   "source": []
  },
  {
   "cell_type": "code",
   "execution_count": 44,
   "metadata": {},
   "outputs": [],
   "source": [
    "# 추가 할 작업\n",
    "\n",
    "# 1. 데이터 부풀리기 완료\n",
    "# 2. 재학습\n",
    "# 3. 실제 test 데이터를 통한 정확도 확인\n",
    "# 4. 출력한 결과를 토대로 중고차 사이트에 검색 연결"
   ]
  }
 ],
 "metadata": {
  "kernelspec": {
   "display_name": "Python 3",
   "language": "python",
   "name": "python3"
  },
  "language_info": {
   "codemirror_mode": {
    "name": "ipython",
    "version": 3
   },
   "file_extension": ".py",
   "mimetype": "text/x-python",
   "name": "python",
   "nbconvert_exporter": "python",
   "pygments_lexer": "ipython3",
   "version": "3.7.6"
  }
 },
 "nbformat": 4,
 "nbformat_minor": 2
}
