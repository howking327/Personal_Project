{
 "cells": [
  {
   "cell_type": "code",
   "execution_count": 1,
   "metadata": {},
   "outputs": [],
   "source": [
    "from PIL import Image\n",
    "import os, glob, numpy as np\n",
    "from sklearn.model_selection import train_test_split"
   ]
  },
  {
   "cell_type": "code",
   "execution_count": 2,
   "metadata": {},
   "outputs": [
    {
     "name": "stdout",
     "output_type": "stream",
     "text": [
      "i30  파일 길이 :  44\n",
      "i30  :  C:/Users/1-11/Pictures/car_train/i30\\현대_i30_2017_14시대_H0_V0.JPG\n",
      "스타렉스  파일 길이 :  50\n",
      "스타렉스  :  C:/Users/1-11/Pictures/car_train/스타렉스\\현대_스타렉스_2014_14시대_H0_V0.JPG\n",
      "펠리세이드  파일 길이 :  75\n",
      "펠리세이드  :  C:/Users/1-11/Pictures/car_train/펠리세이드\\현대_팰리세이드_2019_14시대_H0_V0.JPG\n",
      "ok 169\n"
     ]
    }
   ],
   "source": [
    "caltech_dir = \"C:/Users/1-11/Pictures/car_train\"\n",
    "categories = [\"i30\", \"스타렉스\", \"펠리세이드\"]\n",
    "nb_classes = len(categories)\n",
    "\n",
    "image_w = 64\n",
    "image_h = 64\n",
    "\n",
    "pixels = image_h * image_w * 3\n",
    "\n",
    "X = []\n",
    "y = []\n",
    "\n",
    "for idx, cat in enumerate(categories):\n",
    "    \n",
    "    #one-hot 돌리기.\n",
    "    label = [0 for i in range(nb_classes)]\n",
    "    label[idx] = 1\n",
    "\n",
    "    image_dir = caltech_dir + \"/\" + cat\n",
    "    files = glob.glob(image_dir+\"/*.jpg\")\n",
    "    print(cat, \" 파일 길이 : \", len(files))\n",
    "    for i, f in enumerate(files):\n",
    "        img = Image.open(f)\n",
    "        img = img.convert(\"RGB\")\n",
    "        img = img.resize((image_w, image_h))\n",
    "        data = np.asarray(img)\n",
    "\n",
    "        X.append(data)\n",
    "        y.append(label)\n",
    "\n",
    "        if i % 700 == 0:\n",
    "            print(cat, \" : \", f)\n",
    "\n",
    "X = np.array(X)\n",
    "y = np.array(y)\n",
    "#1 0 0 0 이면 airplanes\n",
    "#0 1 0 0 이면 buddha 이런식\n",
    "\n",
    "\n",
    "X_train, X_test, y_train, y_test = train_test_split(X, y)\n",
    "xy = (X_train, X_test, y_train, y_test)\n",
    "np.save(\"keras_data.npy\", xy)\n",
    "\n",
    "print(\"ok\", len(y))"
   ]
  },
  {
   "cell_type": "code",
   "execution_count": 14,
   "metadata": {},
   "outputs": [
    {
     "name": "stdout",
     "output_type": "stream",
     "text": [
      "44\n",
      "50\n",
      "75\n"
     ]
    }
   ],
   "source": [
    "for idx, cat in enumerate(categories):\n",
    "    \n",
    "    image_dir = caltech_dir + \"/\" + cat\n",
    "    files = glob.glob(image_dir+\"/*.jpg\")\n",
    "    \n",
    "    print(len(files))"
   ]
  },
  {
   "cell_type": "code",
   "execution_count": 4,
   "metadata": {},
   "outputs": [
    {
     "name": "stdout",
     "output_type": "stream",
     "text": [
      "[1, 0, 0]\n",
      "0 : i30\n",
      "[0, 1, 0]\n",
      "1 : 스타렉스\n",
      "[0, 0, 1]\n",
      "2 : 펠리세이드\n"
     ]
    }
   ],
   "source": [
    "for idx, cat in enumerate(categories):\n",
    "    \n",
    "    #one-hot 돌리기.\n",
    "    label = [0 for i in range(nb_classes)]\n",
    "    label[idx] = 1\n",
    "    print(label)\n",
    "    print(idx,\":\",cat)"
   ]
  },
  {
   "cell_type": "code",
   "execution_count": null,
   "metadata": {},
   "outputs": [],
   "source": []
  },
  {
   "cell_type": "code",
   "execution_count": 5,
   "metadata": {},
   "outputs": [
    {
     "name": "stdout",
     "output_type": "stream",
     "text": [
      "['i30', '스타렉스', '펠리세이드']\n"
     ]
    }
   ],
   "source": [
    "print(categories)"
   ]
  },
  {
   "cell_type": "code",
   "execution_count": 4,
   "metadata": {},
   "outputs": [
    {
     "name": "stderr",
     "output_type": "stream",
     "text": [
      "Using TensorFlow backend.\n"
     ]
    },
    {
     "name": "stdout",
     "output_type": "stream",
     "text": [
      "(126, 64, 64, 3)\n",
      "126\n"
     ]
    }
   ],
   "source": [
    "import os, glob, numpy as np\n",
    "from keras.models import Sequential\n",
    "from keras.layers import Conv2D, MaxPooling2D, Dense, Flatten, Dropout\n",
    "from keras.callbacks import EarlyStopping, ModelCheckpoint\n",
    "import matplotlib.pyplot as plt\n",
    "import keras.backend.tensorflow_backend as K\n",
    "\n",
    "import tensorflow as tf\n",
    "config = tf.ConfigProto()\n",
    "config.gpu_options.allow_growth = True\n",
    "session = tf.Session(config=config)\n",
    "\n",
    "#X_train, X_test, y_train, y_test = np.load(\"keras_data.npy\")\n",
    "print(X_train.shape)\n",
    "print(X_train.shape[0])"
   ]
  },
  {
   "cell_type": "code",
   "execution_count": 5,
   "metadata": {},
   "outputs": [],
   "source": [
    "categories = [\"i30\", \"스타렉스\", \"펠리세이드\"]\n",
    "nb_classes = len(categories)\n",
    "\n",
    "#일반화\n",
    "X_train = X_train.astype(float) / 255\n",
    "X_test = X_test.astype(float) / 255"
   ]
  },
  {
   "cell_type": "code",
   "execution_count": 6,
   "metadata": {},
   "outputs": [
    {
     "name": "stdout",
     "output_type": "stream",
     "text": [
      "WARNING:tensorflow:From C:\\Users\\1-11\\Anaconda3\\lib\\site-packages\\keras\\backend\\tensorflow_backend.py:74: The name tf.get_default_graph is deprecated. Please use tf.compat.v1.get_default_graph instead.\n",
      "\n",
      "WARNING:tensorflow:From C:\\Users\\1-11\\Anaconda3\\lib\\site-packages\\keras\\backend\\tensorflow_backend.py:517: The name tf.placeholder is deprecated. Please use tf.compat.v1.placeholder instead.\n",
      "\n",
      "WARNING:tensorflow:From C:\\Users\\1-11\\Anaconda3\\lib\\site-packages\\keras\\backend\\tensorflow_backend.py:4138: The name tf.random_uniform is deprecated. Please use tf.random.uniform instead.\n",
      "\n",
      "WARNING:tensorflow:From C:\\Users\\1-11\\Anaconda3\\lib\\site-packages\\keras\\backend\\tensorflow_backend.py:3976: The name tf.nn.max_pool is deprecated. Please use tf.nn.max_pool2d instead.\n",
      "\n",
      "WARNING:tensorflow:From C:\\Users\\1-11\\Anaconda3\\lib\\site-packages\\keras\\backend\\tensorflow_backend.py:133: The name tf.placeholder_with_default is deprecated. Please use tf.compat.v1.placeholder_with_default instead.\n",
      "\n",
      "WARNING:tensorflow:From C:\\Users\\1-11\\Anaconda3\\lib\\site-packages\\keras\\backend\\tensorflow_backend.py:3445: calling dropout (from tensorflow.python.ops.nn_ops) with keep_prob is deprecated and will be removed in a future version.\n",
      "Instructions for updating:\n",
      "Please use `rate` instead of `keep_prob`. Rate should be set to `rate = 1 - keep_prob`.\n",
      "WARNING:tensorflow:From C:\\Users\\1-11\\Anaconda3\\lib\\site-packages\\keras\\optimizers.py:790: The name tf.train.Optimizer is deprecated. Please use tf.compat.v1.train.Optimizer instead.\n",
      "\n",
      "WARNING:tensorflow:From C:\\Users\\1-11\\Anaconda3\\lib\\site-packages\\keras\\backend\\tensorflow_backend.py:3295: The name tf.log is deprecated. Please use tf.math.log instead.\n",
      "\n"
     ]
    }
   ],
   "source": [
    "with K.tf_ops.device('/device:GPU:0'):\n",
    "    model = Sequential()\n",
    "    model.add(Conv2D(32, (3,3), padding=\"same\", input_shape=X_train.shape[1:], activation='relu'))\n",
    "    model.add(MaxPooling2D(pool_size=(2,2)))\n",
    "    model.add(Dropout(0.25))\n",
    "    \n",
    "    model.add(Conv2D(64, (3,3), padding=\"same\", activation='relu'))\n",
    "    model.add(MaxPooling2D(pool_size=(2,2)))\n",
    "    model.add(Dropout(0.25))\n",
    "    \n",
    "    model.add(Flatten())\n",
    "    model.add(Dense(256, activation='relu'))\n",
    "    model.add(Dropout(0.5))\n",
    "    model.add(Dense(nb_classes, activation='softmax'))\n",
    "    model.compile(loss='categorical_crossentropy', optimizer='adam', metrics=['accuracy'])\n",
    "    model_dir = './model'\n",
    "    \n",
    "    if not os.path.exists(model_dir):\n",
    "        os.mkdir(model_dir)\n",
    "    \n",
    "    model_path = model_dir + '/multi_img_classification.model'\n",
    "    checkpoint = ModelCheckpoint(filepath=model_path , monitor='val_loss', verbose=1, save_best_only=True)\n",
    "    early_stopping = EarlyStopping(monitor='val_loss', patience=6)"
   ]
  },
  {
   "cell_type": "code",
   "execution_count": 7,
   "metadata": {},
   "outputs": [
    {
     "name": "stdout",
     "output_type": "stream",
     "text": [
      "_________________________________________________________________\n",
      "Layer (type)                 Output Shape              Param #   \n",
      "=================================================================\n",
      "conv2d_1 (Conv2D)            (None, 64, 64, 32)        896       \n",
      "_________________________________________________________________\n",
      "max_pooling2d_1 (MaxPooling2 (None, 32, 32, 32)        0         \n",
      "_________________________________________________________________\n",
      "dropout_1 (Dropout)          (None, 32, 32, 32)        0         \n",
      "_________________________________________________________________\n",
      "conv2d_2 (Conv2D)            (None, 32, 32, 64)        18496     \n",
      "_________________________________________________________________\n",
      "max_pooling2d_2 (MaxPooling2 (None, 16, 16, 64)        0         \n",
      "_________________________________________________________________\n",
      "dropout_2 (Dropout)          (None, 16, 16, 64)        0         \n",
      "_________________________________________________________________\n",
      "flatten_1 (Flatten)          (None, 16384)             0         \n",
      "_________________________________________________________________\n",
      "dense_1 (Dense)              (None, 256)               4194560   \n",
      "_________________________________________________________________\n",
      "dropout_3 (Dropout)          (None, 256)               0         \n",
      "_________________________________________________________________\n",
      "dense_2 (Dense)              (None, 3)                 771       \n",
      "=================================================================\n",
      "Total params: 4,214,723\n",
      "Trainable params: 4,214,723\n",
      "Non-trainable params: 0\n",
      "_________________________________________________________________\n"
     ]
    }
   ],
   "source": [
    "model.summary()"
   ]
  },
  {
   "cell_type": "code",
   "execution_count": 8,
   "metadata": {},
   "outputs": [
    {
     "name": "stdout",
     "output_type": "stream",
     "text": [
      "WARNING:tensorflow:From C:\\Users\\1-11\\Anaconda3\\lib\\site-packages\\tensorflow_core\\python\\ops\\math_grad.py:1424: where (from tensorflow.python.ops.array_ops) is deprecated and will be removed in a future version.\n",
      "Instructions for updating:\n",
      "Use tf.where in 2.0, which has the same broadcast rule as np.where\n",
      "WARNING:tensorflow:From C:\\Users\\1-11\\Anaconda3\\lib\\site-packages\\keras\\backend\\tensorflow_backend.py:986: The name tf.assign_add is deprecated. Please use tf.compat.v1.assign_add instead.\n",
      "\n",
      "WARNING:tensorflow:From C:\\Users\\1-11\\Anaconda3\\lib\\site-packages\\keras\\backend\\tensorflow_backend.py:973: The name tf.assign is deprecated. Please use tf.compat.v1.assign instead.\n",
      "\n",
      "Train on 126 samples, validate on 43 samples\n",
      "Epoch 1/50\n",
      "WARNING:tensorflow:From C:\\Users\\1-11\\Anaconda3\\lib\\site-packages\\keras\\backend\\tensorflow_backend.py:174: The name tf.get_default_session is deprecated. Please use tf.compat.v1.get_default_session instead.\n",
      "\n",
      "WARNING:tensorflow:From C:\\Users\\1-11\\Anaconda3\\lib\\site-packages\\keras\\backend\\tensorflow_backend.py:190: The name tf.global_variables is deprecated. Please use tf.compat.v1.global_variables instead.\n",
      "\n",
      "WARNING:tensorflow:From C:\\Users\\1-11\\Anaconda3\\lib\\site-packages\\keras\\backend\\tensorflow_backend.py:199: The name tf.is_variable_initialized is deprecated. Please use tf.compat.v1.is_variable_initialized instead.\n",
      "\n",
      "WARNING:tensorflow:From C:\\Users\\1-11\\Anaconda3\\lib\\site-packages\\keras\\backend\\tensorflow_backend.py:206: The name tf.variables_initializer is deprecated. Please use tf.compat.v1.variables_initializer instead.\n",
      "\n",
      "126/126 [==============================] - 2s 17ms/step - loss: 1.4590 - acc: 0.3651 - val_loss: 0.9954 - val_acc: 0.7442\n",
      "\n",
      "Epoch 00001: val_loss improved from inf to 0.99538, saving model to ./model/multi_img_classification.model\n",
      "Epoch 2/50\n",
      "126/126 [==============================] - 0s 4ms/step - loss: 1.1242 - acc: 0.4683 - val_loss: 1.0681 - val_acc: 0.2326\n",
      "\n",
      "Epoch 00002: val_loss did not improve from 0.99538\n",
      "Epoch 3/50\n",
      "126/126 [==============================] - 0s 3ms/step - loss: 1.0279 - acc: 0.4762 - val_loss: 0.9942 - val_acc: 0.4884\n",
      "\n",
      "Epoch 00003: val_loss improved from 0.99538 to 0.99421, saving model to ./model/multi_img_classification.model\n",
      "Epoch 4/50\n",
      "126/126 [==============================] - 0s 3ms/step - loss: 0.9298 - acc: 0.5556 - val_loss: 0.9573 - val_acc: 0.7907\n",
      "\n",
      "Epoch 00004: val_loss improved from 0.99421 to 0.95732, saving model to ./model/multi_img_classification.model\n",
      "Epoch 5/50\n",
      "126/126 [==============================] - 0s 3ms/step - loss: 0.8244 - acc: 0.6905 - val_loss: 0.7887 - val_acc: 0.8372\n",
      "\n",
      "Epoch 00005: val_loss improved from 0.95732 to 0.78872, saving model to ./model/multi_img_classification.model\n",
      "Epoch 6/50\n",
      "126/126 [==============================] - 0s 3ms/step - loss: 0.6715 - acc: 0.7381 - val_loss: 0.6358 - val_acc: 0.9070\n",
      "\n",
      "Epoch 00006: val_loss improved from 0.78872 to 0.63576, saving model to ./model/multi_img_classification.model\n",
      "Epoch 7/50\n",
      "126/126 [==============================] - 0s 3ms/step - loss: 0.5422 - acc: 0.8254 - val_loss: 0.4793 - val_acc: 0.8837\n",
      "\n",
      "Epoch 00007: val_loss improved from 0.63576 to 0.47932, saving model to ./model/multi_img_classification.model\n",
      "Epoch 8/50\n",
      "126/126 [==============================] - 0s 3ms/step - loss: 0.3876 - acc: 0.8889 - val_loss: 0.3673 - val_acc: 0.9302\n",
      "\n",
      "Epoch 00008: val_loss improved from 0.47932 to 0.36728, saving model to ./model/multi_img_classification.model\n",
      "Epoch 9/50\n",
      "126/126 [==============================] - 0s 3ms/step - loss: 0.3064 - acc: 0.9127 - val_loss: 0.3527 - val_acc: 0.9070\n",
      "\n",
      "Epoch 00009: val_loss improved from 0.36728 to 0.35267, saving model to ./model/multi_img_classification.model\n",
      "Epoch 10/50\n",
      "126/126 [==============================] - 0s 3ms/step - loss: 0.1856 - acc: 0.9841 - val_loss: 0.2942 - val_acc: 0.9070\n",
      "\n",
      "Epoch 00010: val_loss improved from 0.35267 to 0.29423, saving model to ./model/multi_img_classification.model\n",
      "Epoch 11/50\n",
      "126/126 [==============================] - 0s 3ms/step - loss: 0.1172 - acc: 0.9762 - val_loss: 0.3016 - val_acc: 0.9070\n",
      "\n",
      "Epoch 00011: val_loss did not improve from 0.29423\n",
      "Epoch 12/50\n",
      "126/126 [==============================] - 0s 3ms/step - loss: 0.0806 - acc: 0.9921 - val_loss: 0.2494 - val_acc: 0.9070\n",
      "\n",
      "Epoch 00012: val_loss improved from 0.29423 to 0.24936, saving model to ./model/multi_img_classification.model\n",
      "Epoch 13/50\n",
      "126/126 [==============================] - 0s 3ms/step - loss: 0.0563 - acc: 0.9921 - val_loss: 0.2811 - val_acc: 0.9070\n",
      "\n",
      "Epoch 00013: val_loss did not improve from 0.24936\n",
      "Epoch 14/50\n",
      "126/126 [==============================] - 0s 3ms/step - loss: 0.0425 - acc: 0.9921 - val_loss: 0.1979 - val_acc: 0.9070\n",
      "\n",
      "Epoch 00014: val_loss improved from 0.24936 to 0.19785, saving model to ./model/multi_img_classification.model\n",
      "Epoch 15/50\n",
      "126/126 [==============================] - 0s 3ms/step - loss: 0.0447 - acc: 1.0000 - val_loss: 0.2956 - val_acc: 0.9070\n",
      "\n",
      "Epoch 00015: val_loss did not improve from 0.19785\n",
      "Epoch 16/50\n",
      "126/126 [==============================] - 0s 3ms/step - loss: 0.0322 - acc: 1.0000 - val_loss: 0.2942 - val_acc: 0.9302\n",
      "\n",
      "Epoch 00016: val_loss did not improve from 0.19785\n",
      "Epoch 17/50\n",
      "126/126 [==============================] - 0s 3ms/step - loss: 0.0227 - acc: 0.9921 - val_loss: 0.1886 - val_acc: 0.9070\n",
      "\n",
      "Epoch 00017: val_loss improved from 0.19785 to 0.18865, saving model to ./model/multi_img_classification.model\n",
      "Epoch 18/50\n",
      "126/126 [==============================] - 0s 3ms/step - loss: 0.0155 - acc: 1.0000 - val_loss: 0.3014 - val_acc: 0.9070\n",
      "\n",
      "Epoch 00018: val_loss did not improve from 0.18865\n",
      "Epoch 19/50\n",
      "126/126 [==============================] - 0s 3ms/step - loss: 0.0157 - acc: 1.0000 - val_loss: 0.2877 - val_acc: 0.9302\n",
      "\n",
      "Epoch 00019: val_loss did not improve from 0.18865\n",
      "Epoch 20/50\n",
      "126/126 [==============================] - 0s 3ms/step - loss: 0.0099 - acc: 1.0000 - val_loss: 0.1710 - val_acc: 0.9302\n",
      "\n",
      "Epoch 00020: val_loss improved from 0.18865 to 0.17102, saving model to ./model/multi_img_classification.model\n",
      "Epoch 21/50\n",
      "126/126 [==============================] - 0s 3ms/step - loss: 0.0120 - acc: 1.0000 - val_loss: 0.2930 - val_acc: 0.9070\n",
      "\n",
      "Epoch 00021: val_loss did not improve from 0.17102\n",
      "Epoch 22/50\n",
      "126/126 [==============================] - 0s 3ms/step - loss: 0.0195 - acc: 0.9921 - val_loss: 0.3677 - val_acc: 0.9070\n",
      "\n",
      "Epoch 00022: val_loss did not improve from 0.17102\n",
      "Epoch 23/50\n",
      "126/126 [==============================] - 0s 3ms/step - loss: 0.0094 - acc: 1.0000 - val_loss: 0.3234 - val_acc: 0.9070\n",
      "\n",
      "Epoch 00023: val_loss did not improve from 0.17102\n",
      "Epoch 24/50\n",
      "126/126 [==============================] - 0s 3ms/step - loss: 0.0132 - acc: 1.0000 - val_loss: 0.2016 - val_acc: 0.9070\n",
      "\n",
      "Epoch 00024: val_loss did not improve from 0.17102\n",
      "Epoch 25/50\n",
      "126/126 [==============================] - 0s 3ms/step - loss: 0.0170 - acc: 1.0000 - val_loss: 0.2795 - val_acc: 0.9070\n",
      "\n",
      "Epoch 00025: val_loss did not improve from 0.17102\n",
      "Epoch 26/50\n",
      "126/126 [==============================] - 0s 3ms/step - loss: 0.0071 - acc: 1.0000 - val_loss: 0.3728 - val_acc: 0.9070\n",
      "\n",
      "Epoch 00026: val_loss did not improve from 0.17102\n"
     ]
    }
   ],
   "source": [
    "#데이터셋이 적어서 validation을 그냥 test 데이터로 했습니다. \n",
    "#데이터셋이 충분하시면 이렇게 하시지 마시고 validation_split=0.2 이렇게 하셔서 테스트 셋으로 나누시길 권장합니다.\n",
    "history = model.fit(X_train, y_train, batch_size=32, epochs=50, validation_data=(X_test, y_test), callbacks=[checkpoint, early_stopping])"
   ]
  },
  {
   "cell_type": "code",
   "execution_count": 9,
   "metadata": {
    "scrolled": true
   },
   "outputs": [
    {
     "name": "stdout",
     "output_type": "stream",
     "text": [
      "43/43 [==============================] - 0s 669us/step\n",
      "정확도 : 0.9070\n"
     ]
    }
   ],
   "source": [
    "print(\"정확도 : %.4f\" % (model.evaluate(X_test, y_test)[1]))"
   ]
  },
  {
   "cell_type": "code",
   "execution_count": 10,
   "metadata": {},
   "outputs": [
    {
     "data": {
      "image/png": "[encoded data removed]",
      "text/plain": [
       "<Figure size 432x288 with 1 Axes>"
      ]
     },
     "metadata": {
      "needs_background": "light"
     },
     "output_type": "display_data"
    }
   ],
   "source": [
    "y_vloss = history.history['val_loss']\n",
    "y_loss = history.history['loss']\n",
    "\n",
    "x_len = np.arange(len(y_loss))\n",
    "\n",
    "plt.plot(x_len, y_vloss, marker='.', c='red', label='val_set_loss')\n",
    "plt.plot(x_len, y_loss, marker='.', c='blue', label='train_set_oss')\n",
    "plt.legend()\n",
    "plt.xlabel('epochs')\n",
    "plt.ylabel('loss')\n",
    "plt.grid()\n",
    "plt.show()"
   ]
  },
  {
   "cell_type": "code",
   "execution_count": 11,
   "metadata": {},
   "outputs": [
    {
     "name": "stdout",
     "output_type": "stream",
     "text": [
      "[0.000 0.000 1.000]\n",
      "2\n",
      "해당 스타1.jpeg이미지는 펠리세이드로 추정됩니다.\n",
      "[0.000 1.000 0.000]\n",
      "1\n",
      "해당 스타2.jpeg이미지는 스타렉스으로 추정됩니다.\n",
      "[0.000 1.000 0.000]\n",
      "1\n",
      "해당 스타3.png이미지는 스타렉스으로 추정됩니다.\n",
      "[0.000 0.000 1.000]\n",
      "2\n",
      "해당 스타4.jpg이미지는 펠리세이드로 추정됩니다.\n",
      "[1.000 0.000 0.000]\n",
      "0\n",
      "해당 스타5.jpg이미지는 i30로 추정됩니다.\n",
      "[0.000 0.000 1.000]\n",
      "2\n",
      "해당 써티1.jpeg이미지는 펠리세이드로 추정됩니다.\n",
      "[0.000 0.000 1.000]\n",
      "2\n",
      "해당 써티2.jpeg이미지는 펠리세이드로 추정됩니다.\n",
      "[1.000 0.000 0.000]\n",
      "0\n",
      "해당 써티3.jpeg이미지는 i30로 추정됩니다.\n",
      "[0.000 0.000 1.000]\n",
      "2\n",
      "해당 써티4.jpg이미지는 펠리세이드로 추정됩니다.\n",
      "[0.000 0.000 1.000]\n",
      "2\n",
      "해당 펠리1.jpg이미지는 펠리세이드로 추정됩니다.\n",
      "[0.000 0.000 1.000]\n",
      "2\n",
      "해당 펠리2.jpg이미지는 펠리세이드로 추정됩니다.\n",
      "[0.000 0.000 1.000]\n",
      "2\n",
      "해당 펠리3.jpg이미지는 펠리세이드로 추정됩니다.\n",
      "[1.000 0.000 0.000]\n",
      "0\n",
      "해당 펠리4.jpg이미지는 i30로 추정됩니다.\n",
      "[0.000 0.000 1.000]\n",
      "2\n",
      "해당 펠리5.jpg이미지는 펠리세이드로 추정됩니다.\n"
     ]
    }
   ],
   "source": [
    "from PIL import Image\n",
    "import os, glob, numpy as np\n",
    "from keras.models import load_model\n",
    "\n",
    "caltech_dir = \"C:/Users/1-11/Pictures/car_test\"\n",
    "image_w = 64\n",
    "image_h = 64\n",
    "\n",
    "pixels = image_h * image_w * 3\n",
    "\n",
    "X = []\n",
    "filenames = []\n",
    "files = glob.glob(caltech_dir+\"/*.*\")\n",
    "for i, f in enumerate(files):\n",
    "    img = Image.open(f)\n",
    "    img = img.convert(\"RGB\")\n",
    "    img = img.resize((image_w, image_h))\n",
    "    data = np.asarray(img)\n",
    "    filenames.append(f)\n",
    "    X.append(data)\n",
    "\n",
    "X = np.array(X)\n",
    "model = load_model('./model/multi_img_classification.model')\n",
    "\n",
    "prediction = model.predict(X)\n",
    "np.set_printoptions(formatter={'float': lambda x: \"{0:0.3f}\".format(x)})\n",
    "cnt = 0\n",
    "\n",
    "#이 비교는 그냥 파일들이 있으면 해당 파일과 비교. 카테고리와 함께 비교해서 진행하는 것은 _4 파일.\n",
    "for i in prediction:\n",
    "    pre_ans = i.argmax()  # 예측 레이블\n",
    "    print(i)\n",
    "    print(pre_ans)\n",
    "    pre_ans_str = ''\n",
    "    if pre_ans == 0: pre_ans_str = \"i30\"\n",
    "    elif pre_ans == 1: pre_ans_str = \"스타렉스\"\n",
    "    else: pre_ans_str = \"펠리세이드\"\n",
    "    if i[0] >= 0.8 : print(\"해당 \"+filenames[cnt].split(\"\\\\\")[1]+\"이미지는 \"+pre_ans_str+\"로 추정됩니다.\")\n",
    "    if i[1] >= 0.8: print(\"해당 \"+filenames[cnt].split(\"\\\\\")[1]+\"이미지는 \"+pre_ans_str+\"으로 추정됩니다.\")\n",
    "    if i[2] >= 0.8: print(\"해당 \"+filenames[cnt].split(\"\\\\\")[1]+\"이미지는 \"+pre_ans_str+\"로 추정됩니다.\")\n",
    "    cnt += 1\n",
    "    # print(i.argmax()) #얘가 레이블 [1. 0. 0.] 이런식으로 되어 있는 것을 숫자로 바꿔주는 것.\n",
    "    # 즉 얘랑, 나중에 카테고리 데이터 불러와서 카테고리랑 비교를 해서 같으면 맞는거고, 아니면 틀린거로 취급하면 된다.\n",
    "    # 이걸 한 것은 _4.py에."
   ]
  },
  {
   "cell_type": "code",
   "execution_count": null,
   "metadata": {},
   "outputs": [],
   "source": []
  },
  {
   "cell_type": "code",
   "execution_count": null,
   "metadata": {},
   "outputs": [],
   "source": []
  },
  {
   "cell_type": "code",
   "execution_count": null,
   "metadata": {},
   "outputs": [],
   "source": []
  },
  {
   "cell_type": "code",
   "execution_count": null,
   "metadata": {},
   "outputs": [],
   "source": []
  },
  {
   "cell_type": "code",
   "execution_count": null,
   "metadata": {},
   "outputs": [],
   "source": []
  },
  {
   "cell_type": "code",
   "execution_count": null,
   "metadata": {},
   "outputs": [],
   "source": []
  },
  {
   "cell_type": "code",
   "execution_count": null,
   "metadata": {},
   "outputs": [],
   "source": []
  },
  {
   "cell_type": "code",
   "execution_count": null,
   "metadata": {},
   "outputs": [],
   "source": []
  },
  {
   "cell_type": "code",
   "execution_count": null,
   "metadata": {},
   "outputs": [],
   "source": []
  },
  {
   "cell_type": "code",
   "execution_count": null,
   "metadata": {},
   "outputs": [],
   "source": []
  },
  {
   "cell_type": "code",
   "execution_count": null,
   "metadata": {},
   "outputs": [],
   "source": []
  },
  {
   "cell_type": "code",
   "execution_count": null,
   "metadata": {},
   "outputs": [],
   "source": []
  },
  {
   "cell_type": "code",
   "execution_count": null,
   "metadata": {},
   "outputs": [],
   "source": []
  },
  {
   "cell_type": "code",
   "execution_count": null,
   "metadata": {},
   "outputs": [],
   "source": []
  }
 ],
 "metadata": {
  "kernelspec": {
   "display_name": "Python 3",
   "language": "python",
   "name": "python3"
  },
  "language_info": {
   "codemirror_mode": {
    "name": "ipython",
    "version": 3
   },
   "file_extension": ".py",
   "mimetype": "text/x-python",
   "name": "python",
   "nbconvert_exporter": "python",
   "pygments_lexer": "ipython3",
   "version": "3.7.4"
  }
 },
 "nbformat": 4,
 "nbformat_minor": 2
}
